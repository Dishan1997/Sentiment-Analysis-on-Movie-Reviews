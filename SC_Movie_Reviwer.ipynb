{
  "nbformat": 4,
  "nbformat_minor": 0,
  "metadata": {
    "colab": {
      "name": "SC_Movie_Reviwer.ipynb",
      "provenance": [],
      "collapsed_sections": []
    },
    "kernelspec": {
      "name": "python3",
      "display_name": "Python 3"
    },
    "accelerator": "GPU"
  },
  "cells": [
    {
      "cell_type": "markdown",
      "metadata": {
        "id": "uwArzCBTm-Js"
      },
      "source": [
        "# Project on \n",
        "## **Sentiment Analysis On Movie Reviews**\n",
        "\n",
        "---\n",
        "\n"
      ]
    },
    {
      "cell_type": "code",
      "metadata": {
        "id": "SOHPnUk8PzPI",
        "colab": {
          "base_uri": "https://localhost:8080/"
        },
        "outputId": "57d387ea-bb75-40a5-f6d4-03c16d347ed0"
      },
      "source": [
        "!pip install pyprind\n",
        "!pip install torch==1.6.0 torchvision==0.7.0 torchtext==0.7.0"
      ],
      "execution_count": 27,
      "outputs": [
        {
          "output_type": "stream",
          "text": [
            "Requirement already satisfied: pyprind in /usr/local/lib/python3.7/dist-packages (2.11.2)\n",
            "Requirement already satisfied: torch==1.6.0 in /usr/local/lib/python3.7/dist-packages (1.6.0)\n",
            "Requirement already satisfied: torchvision==0.7.0 in /usr/local/lib/python3.7/dist-packages (0.7.0)\n",
            "Requirement already satisfied: torchtext==0.7.0 in /usr/local/lib/python3.7/dist-packages (0.7.0)\n",
            "Requirement already satisfied: future in /usr/local/lib/python3.7/dist-packages (from torch==1.6.0) (0.16.0)\n",
            "Requirement already satisfied: numpy in /usr/local/lib/python3.7/dist-packages (from torch==1.6.0) (1.19.5)\n",
            "Requirement already satisfied: pillow>=4.1.1 in /usr/local/lib/python3.7/dist-packages (from torchvision==0.7.0) (7.0.0)\n",
            "Requirement already satisfied: requests in /usr/local/lib/python3.7/dist-packages (from torchtext==0.7.0) (2.23.0)\n",
            "Requirement already satisfied: sentencepiece in /usr/local/lib/python3.7/dist-packages (from torchtext==0.7.0) (0.1.95)\n",
            "Requirement already satisfied: tqdm in /usr/local/lib/python3.7/dist-packages (from torchtext==0.7.0) (4.41.1)\n",
            "Requirement already satisfied: chardet<4,>=3.0.2 in /usr/local/lib/python3.7/dist-packages (from requests->torchtext==0.7.0) (3.0.4)\n",
            "Requirement already satisfied: idna<3,>=2.5 in /usr/local/lib/python3.7/dist-packages (from requests->torchtext==0.7.0) (2.10)\n",
            "Requirement already satisfied: certifi>=2017.4.17 in /usr/local/lib/python3.7/dist-packages (from requests->torchtext==0.7.0) (2020.12.5)\n",
            "Requirement already satisfied: urllib3!=1.25.0,!=1.25.1,<1.26,>=1.21.1 in /usr/local/lib/python3.7/dist-packages (from requests->torchtext==0.7.0) (1.24.3)\n"
          ],
          "name": "stdout"
        }
      ]
    },
    {
      "cell_type": "code",
      "metadata": {
        "colab": {
          "base_uri": "https://localhost:8080/"
        },
        "id": "uLF4_YgBcsil",
        "outputId": "9115e031-5588-4fc2-abc0-345ef9fc1cf3"
      },
      "source": [
        "import torch\n",
        "import pandas as pd\n",
        "from sklearn.model_selection import train_test_split\n",
        "import nltk\n",
        "nltk.download('punkt')\n",
        "import torchtext\n",
        "import torch.nn.functional as F\n",
        "import torch.nn as nn\n",
        "import pyprind\n",
        "#%matplotlib inline  \n",
        "import time\n",
        "import matplotlib.pyplot as plt\n",
        "import numpy as np\n",
        "from sklearn.metrics import accuracy_score,precision_score,recall_score,f1_score"
      ],
      "execution_count": 28,
      "outputs": [
        {
          "output_type": "stream",
          "text": [
            "[nltk_data] Downloading package punkt to /root/nltk_data...\n",
            "[nltk_data]   Package punkt is already up-to-date!\n"
          ],
          "name": "stdout"
        }
      ]
    },
    {
      "cell_type": "code",
      "metadata": {
        "id": "O8D71x8eNW-O",
        "colab": {
          "base_uri": "https://localhost:8080/"
        },
        "outputId": "acec3c3c-3b81-4835-bf43-63fe1ecd27e4"
      },
      "source": [
        "is_cuda = torch.cuda.is_available()\n",
        "print(\"Cuda Status on system is {}\".format(is_cuda))\n",
        "print(torch.cuda.get_device_name())"
      ],
      "execution_count": 29,
      "outputs": [
        {
          "output_type": "stream",
          "text": [
            "Cuda Status on system is True\n",
            "Tesla T4\n"
          ],
          "name": "stdout"
        }
      ]
    },
    {
      "cell_type": "code",
      "metadata": {
        "id": "Z4VAg5nUrUIX",
        "colab": {
          "base_uri": "https://localhost:8080/"
        },
        "outputId": "395552b8-3624-4a6d-b15e-1d9b95449328"
      },
      "source": [
        "from google.colab import drive\n",
        "drive.mount('/content/drive')"
      ],
      "execution_count": 30,
      "outputs": [
        {
          "output_type": "stream",
          "text": [
            "Drive already mounted at /content/drive; to attempt to forcibly remount, call drive.mount(\"/content/drive\", force_remount=True).\n"
          ],
          "name": "stdout"
        }
      ]
    },
    {
      "cell_type": "markdown",
      "metadata": {
        "id": "Fg2bM8DbRy2E"
      },
      "source": [
        "Preparation  of Dataset\n"
      ]
    },
    {
      "cell_type": "code",
      "metadata": {
        "id": "VnUcPHZWR6Iy",
        "colab": {
          "base_uri": "https://localhost:8080/",
          "height": 424
        },
        "outputId": "b5e633d8-0ae4-4e8e-c862-5ba9c892bb84"
      },
      "source": [
        "df = pd.read_csv(\"/content/drive/MyDrive/Movie/movie_review.csv\")\n",
        "df"
      ],
      "execution_count": 31,
      "outputs": [
        {
          "output_type": "execute_result",
          "data": {
            "text/html": [
              "<div>\n",
              "<style scoped>\n",
              "    .dataframe tbody tr th:only-of-type {\n",
              "        vertical-align: middle;\n",
              "    }\n",
              "\n",
              "    .dataframe tbody tr th {\n",
              "        vertical-align: top;\n",
              "    }\n",
              "\n",
              "    .dataframe thead th {\n",
              "        text-align: right;\n",
              "    }\n",
              "</style>\n",
              "<table border=\"1\" class=\"dataframe\">\n",
              "  <thead>\n",
              "    <tr style=\"text-align: right;\">\n",
              "      <th></th>\n",
              "      <th>fold_id</th>\n",
              "      <th>cv_tag</th>\n",
              "      <th>html_id</th>\n",
              "      <th>sent_id</th>\n",
              "      <th>text</th>\n",
              "      <th>tag</th>\n",
              "    </tr>\n",
              "  </thead>\n",
              "  <tbody>\n",
              "    <tr>\n",
              "      <th>0</th>\n",
              "      <td>0</td>\n",
              "      <td>cv000</td>\n",
              "      <td>29590</td>\n",
              "      <td>0</td>\n",
              "      <td>films adapted from comic books have had plenty...</td>\n",
              "      <td>pos</td>\n",
              "    </tr>\n",
              "    <tr>\n",
              "      <th>1</th>\n",
              "      <td>0</td>\n",
              "      <td>cv000</td>\n",
              "      <td>29590</td>\n",
              "      <td>1</td>\n",
              "      <td>for starters , it was created by alan moore ( ...</td>\n",
              "      <td>pos</td>\n",
              "    </tr>\n",
              "    <tr>\n",
              "      <th>2</th>\n",
              "      <td>0</td>\n",
              "      <td>cv000</td>\n",
              "      <td>29590</td>\n",
              "      <td>2</td>\n",
              "      <td>to say moore and campbell thoroughly researche...</td>\n",
              "      <td>pos</td>\n",
              "    </tr>\n",
              "    <tr>\n",
              "      <th>3</th>\n",
              "      <td>0</td>\n",
              "      <td>cv000</td>\n",
              "      <td>29590</td>\n",
              "      <td>3</td>\n",
              "      <td>the book ( or \" graphic novel , \" if you will ...</td>\n",
              "      <td>pos</td>\n",
              "    </tr>\n",
              "    <tr>\n",
              "      <th>4</th>\n",
              "      <td>0</td>\n",
              "      <td>cv000</td>\n",
              "      <td>29590</td>\n",
              "      <td>4</td>\n",
              "      <td>in other words , don't dismiss this film becau...</td>\n",
              "      <td>pos</td>\n",
              "    </tr>\n",
              "    <tr>\n",
              "      <th>...</th>\n",
              "      <td>...</td>\n",
              "      <td>...</td>\n",
              "      <td>...</td>\n",
              "      <td>...</td>\n",
              "      <td>...</td>\n",
              "      <td>...</td>\n",
              "    </tr>\n",
              "    <tr>\n",
              "      <th>64715</th>\n",
              "      <td>9</td>\n",
              "      <td>cv999</td>\n",
              "      <td>14636</td>\n",
              "      <td>20</td>\n",
              "      <td>that lack of inspiration can be traced back to...</td>\n",
              "      <td>neg</td>\n",
              "    </tr>\n",
              "    <tr>\n",
              "      <th>64716</th>\n",
              "      <td>9</td>\n",
              "      <td>cv999</td>\n",
              "      <td>14636</td>\n",
              "      <td>21</td>\n",
              "      <td>like too many of the skits on the current inca...</td>\n",
              "      <td>neg</td>\n",
              "    </tr>\n",
              "    <tr>\n",
              "      <th>64717</th>\n",
              "      <td>9</td>\n",
              "      <td>cv999</td>\n",
              "      <td>14636</td>\n",
              "      <td>22</td>\n",
              "      <td>after watching one of the \" roxbury \" skits on...</td>\n",
              "      <td>neg</td>\n",
              "    </tr>\n",
              "    <tr>\n",
              "      <th>64718</th>\n",
              "      <td>9</td>\n",
              "      <td>cv999</td>\n",
              "      <td>14636</td>\n",
              "      <td>23</td>\n",
              "      <td>bump unsuspecting women , and . . . that's all .</td>\n",
              "      <td>neg</td>\n",
              "    </tr>\n",
              "    <tr>\n",
              "      <th>64719</th>\n",
              "      <td>9</td>\n",
              "      <td>cv999</td>\n",
              "      <td>14636</td>\n",
              "      <td>24</td>\n",
              "      <td>after watching _a_night_at_the_roxbury_ , you'...</td>\n",
              "      <td>neg</td>\n",
              "    </tr>\n",
              "  </tbody>\n",
              "</table>\n",
              "<p>64720 rows × 6 columns</p>\n",
              "</div>"
            ],
            "text/plain": [
              "       fold_id cv_tag  ...                                               text  tag\n",
              "0            0  cv000  ...  films adapted from comic books have had plenty...  pos\n",
              "1            0  cv000  ...  for starters , it was created by alan moore ( ...  pos\n",
              "2            0  cv000  ...  to say moore and campbell thoroughly researche...  pos\n",
              "3            0  cv000  ...  the book ( or \" graphic novel , \" if you will ...  pos\n",
              "4            0  cv000  ...  in other words , don't dismiss this film becau...  pos\n",
              "...        ...    ...  ...                                                ...  ...\n",
              "64715        9  cv999  ...  that lack of inspiration can be traced back to...  neg\n",
              "64716        9  cv999  ...  like too many of the skits on the current inca...  neg\n",
              "64717        9  cv999  ...  after watching one of the \" roxbury \" skits on...  neg\n",
              "64718        9  cv999  ...   bump unsuspecting women , and . . . that's all .  neg\n",
              "64719        9  cv999  ...  after watching _a_night_at_the_roxbury_ , you'...  neg\n",
              "\n",
              "[64720 rows x 6 columns]"
            ]
          },
          "metadata": {
            "tags": []
          },
          "execution_count": 31
        }
      ]
    },
    {
      "cell_type": "markdown",
      "metadata": {
        "id": "WFDT37BrnbO3"
      },
      "source": [
        "Shape of dataset"
      ]
    },
    {
      "cell_type": "code",
      "metadata": {
        "colab": {
          "base_uri": "https://localhost:8080/"
        },
        "id": "DpSp1ZOHfn4I",
        "outputId": "dcb7bc1d-1800-4ec7-a791-955914635c59"
      },
      "source": [
        "print(df.shape)\n",
        "df=df.dropna()\n",
        "print(df.shape)"
      ],
      "execution_count": 32,
      "outputs": [
        {
          "output_type": "stream",
          "text": [
            "(64720, 6)\n",
            "(64720, 6)\n"
          ],
          "name": "stdout"
        }
      ]
    },
    {
      "cell_type": "markdown",
      "metadata": {
        "id": "decdpN-LnlC9"
      },
      "source": [
        "Replacing the 'positive' tag with 1 and 'negative' with 0"
      ]
    },
    {
      "cell_type": "code",
      "metadata": {
        "id": "DcV3UDc7fuFS"
      },
      "source": [
        "df[\"tag\"].replace({\"pos\":int(1),\"neg\":int(0)},inplace=True) \n",
        "X=df['text']\n",
        "y=df['tag']"
      ],
      "execution_count": 33,
      "outputs": []
    },
    {
      "cell_type": "markdown",
      "metadata": {
        "id": "y0KeT0lYVLY3"
      },
      "source": [
        "Splitting the Test Train Dataset"
      ]
    },
    {
      "cell_type": "code",
      "metadata": {
        "id": "E9gsleHjSigB",
        "colab": {
          "base_uri": "https://localhost:8080/"
        },
        "outputId": "692af09c-1956-44f0-e2ab-7180177888a6"
      },
      "source": [
        "X_train, X_test, y_train, y_test = train_test_split(X, y, test_size=0.10, random_state=42)\n",
        "X_train,X_valid,y_train,y_valid=train_test_split(X_train, y_train, test_size=0.10, random_state=42)\n",
        "\n",
        "print(f'Size of Train set {X_train.shape}\\nSize of Test set {X_test.shape}\\nSize of valid set {X_valid.shape}\\n')"
      ],
      "execution_count": 34,
      "outputs": [
        {
          "output_type": "stream",
          "text": [
            "Size of Train set (52423,)\n",
            "Size of Test set (6472,)\n",
            "Size of valid set (5825,)\n",
            "\n"
          ],
          "name": "stdout"
        }
      ]
    },
    {
      "cell_type": "code",
      "metadata": {
        "id": "hNs9NzqOdI48",
        "colab": {
          "base_uri": "https://localhost:8080/"
        },
        "outputId": "e6b719ed-ec51-4442-aa51-859587baebb1"
      },
      "source": [
        "train = pd.concat([X_train, y_train], axis=1)\n",
        "print(train.shape)\n",
        "\n",
        "test = pd.concat([X_test, y_test], axis=1)\n",
        "print(test.shape)\n",
        "\n",
        "valid = pd.concat([X_valid, y_valid], axis=1)\n",
        "print(valid.shape)"
      ],
      "execution_count": 35,
      "outputs": [
        {
          "output_type": "stream",
          "text": [
            "(52423, 2)\n",
            "(6472, 2)\n",
            "(5825, 2)\n"
          ],
          "name": "stdout"
        }
      ]
    },
    {
      "cell_type": "code",
      "metadata": {
        "id": "6FRJTWrguFVu"
      },
      "source": [
        "train.to_csv(\"/content/drive/My Drive/train.csv\", index=False)\n",
        "test.to_csv(\"/content/drive/My Drive/test.csv\", index=False)\n",
        "valid.to_csv(\"/content/drive/My Drive/valid.csv\", index=False)"
      ],
      "execution_count": 36,
      "outputs": []
    },
    {
      "cell_type": "code",
      "metadata": {
        "id": "XSNYdimrvS4t"
      },
      "source": [
        "del df,train, test, valid, X_train, y_train,X_valid,y_valid, X_test, y_test"
      ],
      "execution_count": 37,
      "outputs": []
    },
    {
      "cell_type": "markdown",
      "metadata": {
        "id": "8u_FG05davsD"
      },
      "source": [
        "Tokenizing Dataset and using Pytorchtext\n"
      ]
    },
    {
      "cell_type": "code",
      "metadata": {
        "id": "ckuEDBgcWb-f"
      },
      "source": [
        "def tokenizer(text):\n",
        "    return [tok for tok in nltk.word_tokenize(text)]"
      ],
      "execution_count": 38,
      "outputs": []
    },
    {
      "cell_type": "code",
      "metadata": {
        "id": "KlDbfcGJbdGb",
        "colab": {
          "base_uri": "https://localhost:8080/"
        },
        "outputId": "d3768a43-9758-449c-df4f-9696c35bd6a8"
      },
      "source": [
        "from torchtext import data\n",
        "TEXT = data.Field(sequential=True, tokenize=tokenizer,include_lengths = True)\n",
        "LABEL = data.LabelField(dtype=torch.float, sequential=False)"
      ],
      "execution_count": 39,
      "outputs": [
        {
          "output_type": "stream",
          "text": [
            "/usr/local/lib/python3.7/dist-packages/torchtext/data/field.py:150: UserWarning: Field class will be retired in the 0.8.0 release and moved to torchtext.legacy. Please see 0.7.0 release notes for further information.\n",
            "  warnings.warn('{} class will be retired in the 0.8.0 release and moved to torchtext.legacy. Please see 0.7.0 release notes for further information.'.format(self.__class__.__name__), UserWarning)\n",
            "/usr/local/lib/python3.7/dist-packages/torchtext/data/field.py:150: UserWarning: LabelField class will be retired in the 0.8.0 release and moved to torchtext.legacy. Please see 0.7.0 release notes for further information.\n",
            "  warnings.warn('{} class will be retired in the 0.8.0 release and moved to torchtext.legacy. Please see 0.7.0 release notes for further information.'.format(self.__class__.__name__), UserWarning)\n"
          ],
          "name": "stderr"
        }
      ]
    },
    {
      "cell_type": "code",
      "metadata": {
        "id": "SREbLYoYbqBI",
        "colab": {
          "base_uri": "https://localhost:8080/"
        },
        "outputId": "d933deda-0725-47c3-9620-a697645bbf2e"
      },
      "source": [
        "train_data, valid_data, test_data = data.TabularDataset.splits(\n",
        "    path=\"/content/drive/My Drive/\", train=\"train.csv\", \n",
        "    validation=\"valid.csv\", test=\"test.csv\",format=\"csv\", skip_header=True, \n",
        "    fields=[('text', TEXT), ('tag', LABEL)]\n",
        ")\n",
        "#change "
      ],
      "execution_count": 40,
      "outputs": [
        {
          "output_type": "stream",
          "text": [
            "/usr/local/lib/python3.7/dist-packages/torchtext/data/example.py:68: UserWarning: Example class will be retired in the 0.8.0 release and moved to torchtext.legacy. Please see 0.7.0 release notes for further information.\n",
            "  warnings.warn('Example class will be retired in the 0.8.0 release and moved to torchtext.legacy. Please see 0.7.0 release notes for further information.', UserWarning)\n",
            "/usr/local/lib/python3.7/dist-packages/torchtext/data/example.py:78: UserWarning: Example class will be retired in the 0.8.0 release and moved to torchtext.legacy. Please see 0.7.0 release notes for further information.\n",
            "  warnings.warn('Example class will be retired in the 0.8.0 release and moved to torchtext.legacy. Please see 0.7.0 release notes for further information.', UserWarning)\n"
          ],
          "name": "stderr"
        }
      ]
    },
    {
      "cell_type": "code",
      "metadata": {
        "id": "-V_qsNSleqbD"
      },
      "source": [
        "TEXT.build_vocab(train_data, vectors=torchtext.vocab.Vectors(\"/content/drive/My Drive/Movie/glove.840B.300d.txt\"), \n",
        "                 max_size=50000)\n",
        "LABEL.build_vocab(train_data)"
      ],
      "execution_count": 41,
      "outputs": []
    },
    {
      "cell_type": "markdown",
      "metadata": {
        "id": "1cFf112fnzTL"
      },
      "source": [
        "# For Setting1:\n",
        "**Hyperparameters:**\n",
        "\n",
        "\n",
        "*   Epoch number=5\n",
        "*   Learning rate=0.001\n",
        "*   batch size= 8\n",
        "*   Number of nodes in hidden layer= 100\n",
        "\n",
        "\n",
        "\n"
      ]
    },
    {
      "cell_type": "code",
      "metadata": {
        "id": "kcgNR4crcItj"
      },
      "source": [
        "# Hyperparameters\n",
        "num_epochs = 5\n",
        "learning_rate = 0.001\n",
        "\n",
        "INPUT_DIM = len(TEXT.vocab)\n",
        "EMBEDDING_DIM = 300\n",
        "HIDDEN_DIM = 100\n",
        "OUTPUT_DIM = 1\n",
        "#N_LAYERS = 2\n",
        "BIDIRECTIONAL = True\n",
        "DROPOUT = 0.1\n",
        "PAD_IDX = TEXT.vocab.stoi[TEXT.pad_token] # padding\n",
        "BATCH_SIZE = 8"
      ],
      "execution_count": 66,
      "outputs": []
    },
    {
      "cell_type": "code",
      "metadata": {
        "id": "gtM0FkIBvpIm",
        "colab": {
          "base_uri": "https://localhost:8080/"
        },
        "outputId": "e0c068d1-be83-4e0e-eee5-c9edd261aefe"
      },
      "source": [
        "device = torch.device('cuda:0' if torch.cuda.is_available() else 'cpu')\n",
        "print(device)\n",
        "# keep in mind the sort_key option \n",
        "train_iterator, valid_iterator, test_iterator = data.BucketIterator.splits(\n",
        "    (train_data, valid_data, test_data), sort_key=lambda x: len(x.text),sort_within_batch = True,\n",
        "    batch_size=BATCH_SIZE,\n",
        "    device=device)"
      ],
      "execution_count": 67,
      "outputs": [
        {
          "output_type": "stream",
          "text": [
            "cuda:0\n"
          ],
          "name": "stdout"
        },
        {
          "output_type": "stream",
          "text": [
            "/usr/local/lib/python3.7/dist-packages/torchtext/data/iterator.py:48: UserWarning: BucketIterator class will be retired in the 0.8.0 release and moved to torchtext.legacy. Please see 0.7.0 release notes for further information.\n",
            "  warnings.warn('{} class will be retired in the 0.8.0 release and moved to torchtext.legacy. Please see 0.7.0 release notes for further information.'.format(self.__class__.__name__), UserWarning)\n"
          ],
          "name": "stderr"
        }
      ]
    },
    {
      "cell_type": "code",
      "metadata": {
        "id": "9s65OXqhhQXW"
      },
      "source": [
        "class LSTM_net(nn.Module):\n",
        "    def __init__(self, vocab_size, embedding_dim, hidden_dim, output_dim,\n",
        "                 bidirectional, dropout, pad_idx):\n",
        "        \n",
        "        super().__init__()\n",
        "        \n",
        "        self.embedding = nn.Embedding(vocab_size, embedding_dim, padding_idx = pad_idx)\n",
        "        \n",
        "        self.rnn = nn.LSTM(embedding_dim, \n",
        "                           hidden_dim, \n",
        "                           bidirectional=bidirectional, \n",
        "                           dropout=dropout)\n",
        "        \n",
        "        self.fc1 = nn.Linear(hidden_dim * 2, hidden_dim)\n",
        "        \n",
        "        self.fc2 = nn.Linear(hidden_dim, 1)\n",
        "        \n",
        "        self.dropout = nn.Dropout(dropout)\n",
        "        \n",
        "    def forward(self, text, text_lengths):\n",
        "        \n",
        "        # text = [sent len, batch size]\n",
        "        \n",
        "        embedded = self.embedding(text)\n",
        "        \n",
        "        # embedded = [sent len, batch size, emb dim]\n",
        "        \n",
        "        #pack sequence\n",
        "        packed_embedded = nn.utils.rnn.pack_padded_sequence(embedded, text_lengths)\n",
        "        \n",
        "        packed_output, (hidden, cell) = self.rnn(packed_embedded)\n",
        "        \n",
        "        #unpack sequence\n",
        "        # output, output_lengths = nn.utils.rnn.pad_packed_sequence(packed_output)\n",
        "\n",
        "        # output = [sent len, batch size, hid dim * num directions]\n",
        "        # output over padding tokens are zero tensors\n",
        "        \n",
        "        # hidden = [num layers * num directions, batch size, hid dim]\n",
        "        # cell = [num layers * num directions, batch size, hid dim]\n",
        "        \n",
        "        # concat the final forward (hidden[-2,:,:]) and backward (hidden[-1,:,:]) hidden layers\n",
        "        # and apply dropout\n",
        "        \n",
        "        hidden = self.dropout(torch.cat((hidden[-2,:,:], hidden[-1,:,:]), dim = 1))\n",
        "        output = self.fc1(hidden)\n",
        "        output = self.dropout(self.fc2(output))\n",
        "                \n",
        "        #hidden = [batch size, hid dim * num directions]\n",
        "            \n",
        "        return output"
      ],
      "execution_count": 68,
      "outputs": []
    },
    {
      "cell_type": "code",
      "metadata": {
        "id": "wSDLbE8lhafm",
        "colab": {
          "base_uri": "https://localhost:8080/"
        },
        "outputId": "b53225bb-59fc-470c-99a2-e6fce8b0e0cb"
      },
      "source": [
        "#creating instance of our LSTM_net class\n",
        "\n",
        "model = LSTM_net(INPUT_DIM, \n",
        "            EMBEDDING_DIM, \n",
        "            HIDDEN_DIM, \n",
        "            OUTPUT_DIM,  \n",
        "            BIDIRECTIONAL, \n",
        "            DROPOUT, \n",
        "            PAD_IDX)"
      ],
      "execution_count": 69,
      "outputs": [
        {
          "output_type": "stream",
          "text": [
            "/usr/local/lib/python3.7/dist-packages/torch/nn/modules/rnn.py:60: UserWarning: dropout option adds dropout after all but last recurrent layer, so non-zero dropout expects num_layers greater than 1, but got dropout=0.1 and num_layers=1\n",
            "  \"num_layers={}\".format(dropout, num_layers))\n"
          ],
          "name": "stderr"
        }
      ]
    },
    {
      "cell_type": "code",
      "metadata": {
        "id": "aEZNYmFIigH3",
        "colab": {
          "base_uri": "https://localhost:8080/"
        },
        "outputId": "65c5665d-41d2-477e-e823-b449e4115e4d"
      },
      "source": [
        "pretrained_embeddings = TEXT.vocab.vectors\n",
        "\n",
        "print(pretrained_embeddings.shape)\n",
        "model.embedding.weight.data.copy_(pretrained_embeddings)"
      ],
      "execution_count": 70,
      "outputs": [
        {
          "output_type": "stream",
          "text": [
            "torch.Size([42704, 300])\n"
          ],
          "name": "stdout"
        },
        {
          "output_type": "execute_result",
          "data": {
            "text/plain": [
              "tensor([[ 0.0000,  0.0000,  0.0000,  ...,  0.0000,  0.0000,  0.0000],\n",
              "        [ 0.0000,  0.0000,  0.0000,  ...,  0.0000,  0.0000,  0.0000],\n",
              "        [-0.0828,  0.6720, -0.1499,  ..., -0.1918, -0.3785, -0.0659],\n",
              "        ...,\n",
              "        [-0.3498,  0.4714,  0.3338,  ...,  0.2062,  0.1383,  0.1018],\n",
              "        [ 0.0000,  0.0000,  0.0000,  ...,  0.0000,  0.0000,  0.0000],\n",
              "        [ 0.1034,  0.0618, -0.3565,  ..., -0.0621, -0.5939, -0.1527]])"
            ]
          },
          "metadata": {
            "tags": []
          },
          "execution_count": 70
        }
      ]
    },
    {
      "cell_type": "code",
      "metadata": {
        "id": "JUb6AC7Ji-jO",
        "colab": {
          "base_uri": "https://localhost:8080/"
        },
        "outputId": "ab7ec577-f24f-4b20-d3aa-3cca6459772e"
      },
      "source": [
        "#  to initiaise padded to zeros\n",
        "model.embedding.weight.data[PAD_IDX] = torch.zeros(EMBEDDING_DIM)\n",
        "\n",
        "print(model.embedding.weight.data)"
      ],
      "execution_count": 71,
      "outputs": [
        {
          "output_type": "stream",
          "text": [
            "tensor([[ 0.0000,  0.0000,  0.0000,  ...,  0.0000,  0.0000,  0.0000],\n",
            "        [ 0.0000,  0.0000,  0.0000,  ...,  0.0000,  0.0000,  0.0000],\n",
            "        [-0.0828,  0.6720, -0.1499,  ..., -0.1918, -0.3785, -0.0659],\n",
            "        ...,\n",
            "        [-0.3498,  0.4714,  0.3338,  ...,  0.2062,  0.1383,  0.1018],\n",
            "        [ 0.0000,  0.0000,  0.0000,  ...,  0.0000,  0.0000,  0.0000],\n",
            "        [ 0.1034,  0.0618, -0.3565,  ..., -0.0621, -0.5939, -0.1527]])\n"
          ],
          "name": "stdout"
        }
      ]
    },
    {
      "cell_type": "code",
      "metadata": {
        "id": "vHB2lWf6i__v"
      },
      "source": [
        "model.to(device) #CNN to GPU\n",
        "\n",
        "\n",
        "# Loss and optimizer\n",
        "criterion = nn.BCEWithLogitsLoss()\n",
        "\n",
        "optimizer = torch.optim.AdamW(model.parameters(), lr=learning_rate)"
      ],
      "execution_count": 72,
      "outputs": []
    },
    {
      "cell_type": "code",
      "metadata": {
        "id": "SEwp_gS2jBT-"
      },
      "source": [
        "def binary_accuracy(preds, y):\n",
        "    \"\"\"\n",
        "    Returns accuracy per batch, i.e. if you get 8/10 right, this returns 0.8, NOT 8\n",
        "    \"\"\"\n",
        "\n",
        "    #round predictions to the closest integer\n",
        "    rounded_preds = torch.round(torch.sigmoid(preds))\n",
        "    correct = (rounded_preds == y).float() #convert into float for division \n",
        "    acc = correct.sum() / len(correct)\n",
        "    return acc"
      ],
      "execution_count": 73,
      "outputs": []
    },
    {
      "cell_type": "code",
      "metadata": {
        "id": "k54_z7G6jCtE"
      },
      "source": [
        "# training function \n",
        "def train(model, iterator):\n",
        "    \n",
        "    epoch_loss = 0\n",
        "    epoch_acc = 0\n",
        "    \n",
        "    model.train()\n",
        "    bar = pyprind.ProgBar(len(iterator), bar_char='█')\n",
        "    for batch in iterator:\n",
        "        \n",
        "        text, text_lengths = batch.text\n",
        "        \n",
        "        optimizer.zero_grad()\n",
        "        predictions = model(text, text_lengths).squeeze(1)\n",
        "        loss = criterion(predictions, batch.tag)\n",
        "        acc = binary_accuracy(predictions, batch.tag)\n",
        "\n",
        "        loss.backward()\n",
        "        optimizer.step()\n",
        "        \n",
        "        epoch_loss += loss.item()\n",
        "        epoch_acc += acc.item()\n",
        "        \n",
        "        bar.update()\n",
        "    return epoch_loss / len(iterator), epoch_acc / len(iterator)"
      ],
      "execution_count": 74,
      "outputs": []
    },
    {
      "cell_type": "code",
      "metadata": {
        "id": "Dz19pDSbjEFQ"
      },
      "source": [
        "def evaluate(model, iterator,mode):\n",
        "    \n",
        "    epoch_acc = 0\n",
        "    epoch_loss=0\n",
        "    preds,labels=[],[]\n",
        "    model.eval()\n",
        "    \n",
        "    with torch.no_grad():\n",
        "        bar = pyprind.ProgBar(len(iterator), bar_char='█')\n",
        "        for batch in iterator:\n",
        "            \n",
        "            text, text_lengths = batch.text\n",
        "            predictions = model(text, text_lengths).squeeze(1)\n",
        "            acc = binary_accuracy(predictions, batch.tag)\n",
        "            loss = criterion(predictions, batch.tag)\n",
        "            \n",
        "            rounded_preds = torch.round(torch.sigmoid(predictions))\n",
        "            logits = rounded_preds.detach().cpu().numpy()\n",
        "            label_ids = batch.tag.to('cpu').numpy()\n",
        "            \n",
        "            preds.append(logits)\n",
        "            labels.append(label_ids)\n",
        "\n",
        "            epoch_acc += acc.item()\n",
        "            epoch_loss+=loss.item()\n",
        "            bar.update()\n",
        "    if mode ==\"validation\":        \n",
        "      return epoch_acc / len(iterator),epoch_loss / len(iterator)\n",
        "    if mode ==\"testing\":\n",
        "      return epoch_acc / len(iterator),epoch_loss / len(iterator),preds,labels"
      ],
      "execution_count": 75,
      "outputs": []
    },
    {
      "cell_type": "code",
      "metadata": {
        "id": "4u1w2vk8jFP-",
        "colab": {
          "base_uri": "https://localhost:8080/"
        },
        "outputId": "43c96857-0ba1-42f5-d30e-675ce39ce56f"
      },
      "source": [
        "t = time.time()\n",
        "loss=[]\n",
        "acc=[]\n",
        "val_acc=[]\n",
        "val_loss=[]\n",
        "same_loss_count=0\n",
        "prev_loss = 0\n",
        "for epoch in range(num_epochs):\n",
        "    print(f'Epoch Number: {epoch}\\n')\n",
        "    train_loss, train_acc = train(model, train_iterator)\n",
        "    valid_acc,valid_loss = evaluate(model, valid_iterator,\"validation\")\n",
        "\n",
        "    print(f'\\tTrain Loss: {train_loss:.3f} | Train Acc: {train_acc*100:.2f}%')\n",
        "    print(f'\\tVal. Loss: {valid_loss:.3f} | Val. Acc: {valid_acc*100:.2f}%')\n",
        "    \n",
        "    #print(f'\\t Val. Acc: {valid_acc*100:.2f}%')\n",
        "    \n",
        "    loss.append(train_loss)\n",
        "    acc.append(train_acc)\n",
        "    val_acc.append(valid_acc)\n",
        "    val_loss.append(valid_loss)\n",
        "    \n",
        "    if np.abs(prev_loss-valid_loss)<0.001:\n",
        "      same_loss_count+=1\n",
        "\n",
        "    prev_loss=valid_loss\n",
        "    if same_loss_count == 3:\n",
        "      break\n",
        "      \n",
        "print(f'time:{time.time()-t:.3f}')"
      ],
      "execution_count": 76,
      "outputs": [
        {
          "output_type": "stream",
          "text": [
            "Epoch Number: 0\n",
            "\n"
          ],
          "name": "stdout"
        },
        {
          "output_type": "stream",
          "text": [
            "/usr/local/lib/python3.7/dist-packages/torchtext/data/batch.py:23: UserWarning: Batch class will be retired in the 0.8.0 release and moved to torchtext.legacy. Please see 0.7.0 release notes for further information.\n",
            "  warnings.warn('{} class will be retired in the 0.8.0 release and moved to torchtext.legacy. Please see 0.7.0 release notes for further information.'.format(self.__class__.__name__), UserWarning)\n",
            "0% [██████████████████████████████] 100% | ETA: 00:00:00\n",
            "Total time elapsed: 00:01:06\n",
            "0% [██████████████████████████████] 100% | ETA: 00:00:00"
          ],
          "name": "stderr"
        },
        {
          "output_type": "stream",
          "text": [
            "\tTrain Loss: 0.606 | Train Acc: 65.77%\n",
            "\tVal. Loss: 0.545 | Val. Acc: 71.98%\n",
            "Epoch Number: 1\n",
            "\n"
          ],
          "name": "stdout"
        },
        {
          "output_type": "stream",
          "text": [
            "\n",
            "Total time elapsed: 00:00:01\n",
            "0% [██████████████████████████████] 100% | ETA: 00:00:00\n",
            "Total time elapsed: 00:01:06\n",
            "0% [██████████████████████████████] 100% | ETA: 00:00:00"
          ],
          "name": "stderr"
        },
        {
          "output_type": "stream",
          "text": [
            "\tTrain Loss: 0.441 | Train Acc: 77.59%\n",
            "\tVal. Loss: 0.540 | Val. Acc: 73.06%\n",
            "Epoch Number: 2\n",
            "\n"
          ],
          "name": "stdout"
        },
        {
          "output_type": "stream",
          "text": [
            "\n",
            "Total time elapsed: 00:00:01\n",
            "0% [██████████████████████████████] 100% | ETA: 00:00:00\n",
            "Total time elapsed: 00:01:05\n",
            "0% [██████████████████████████████] 100% | ETA: 00:00:00"
          ],
          "name": "stderr"
        },
        {
          "output_type": "stream",
          "text": [
            "\tTrain Loss: 0.330 | Train Acc: 83.45%\n",
            "\tVal. Loss: 0.566 | Val. Acc: 72.39%\n",
            "Epoch Number: 3\n",
            "\n"
          ],
          "name": "stdout"
        },
        {
          "output_type": "stream",
          "text": [
            "\n",
            "Total time elapsed: 00:00:01\n",
            "0% [██████████████████████████████] 100% | ETA: 00:00:00\n",
            "Total time elapsed: 00:01:05\n",
            "0% [██████████████████████████████] 100% | ETA: 00:00:00"
          ],
          "name": "stderr"
        },
        {
          "output_type": "stream",
          "text": [
            "\tTrain Loss: 0.244 | Train Acc: 87.36%\n",
            "\tVal. Loss: 0.724 | Val. Acc: 71.74%\n",
            "Epoch Number: 4\n",
            "\n"
          ],
          "name": "stdout"
        },
        {
          "output_type": "stream",
          "text": [
            "\n",
            "Total time elapsed: 00:00:01\n",
            "0% [██████████████████████████████] 100% | ETA: 00:00:00\n",
            "Total time elapsed: 00:01:06\n",
            "0% [██████████████████████████████] 100% | ETA: 00:00:00"
          ],
          "name": "stderr"
        },
        {
          "output_type": "stream",
          "text": [
            "\tTrain Loss: 0.183 | Train Acc: 90.32%\n",
            "\tVal. Loss: 0.900 | Val. Acc: 70.71%\n",
            "time:337.496\n"
          ],
          "name": "stdout"
        },
        {
          "output_type": "stream",
          "text": [
            "\n",
            "Total time elapsed: 00:00:01\n"
          ],
          "name": "stderr"
        }
      ]
    },
    {
      "cell_type": "code",
      "metadata": {
        "id": "B7ffMDNrxAqw",
        "colab": {
          "base_uri": "https://localhost:8080/",
          "height": 313
        },
        "outputId": "237e5ddb-9760-4ec7-c3b2-134ad8f62cd2"
      },
      "source": [
        "plt.xlabel(\"runs\")\n",
        "plt.ylabel(\"normalised measure of loss/accuracy\")\n",
        "x_len=list(range(len(val_loss)))\n",
        "plt.axis([0, max(x_len), 0, 1])\n",
        "plt.title('result of LSTM')\n",
        "loss=np.asarray(loss)/max(loss)\n",
        "plt.plot(x_len, loss, 'r+',label=\"loss\")\n",
        "plt.plot(x_len, acc, 'b.', label=\"accuracy\")\n",
        "plt.plot(x_len, val_acc, 'g.', label=\"val_accuracy\")\n",
        "plt.plot(x_len, val_loss, 'g+', label=\"val_loss\")\n",
        "\n",
        "plt.legend(bbox_to_anchor=(1.05, 1), loc=2, borderaxespad=0.2)\n",
        "plt.show"
      ],
      "execution_count": 77,
      "outputs": [
        {
          "output_type": "execute_result",
          "data": {
            "text/plain": [
              "<function matplotlib.pyplot.show>"
            ]
          },
          "metadata": {
            "tags": []
          },
          "execution_count": 77
        },
        {
          "output_type": "display_data",
          "data": {
            "image/png": "[encoded data removed]",
            "text/plain": [
              "<Figure size 432x288 with 1 Axes>"
            ]
          },
          "metadata": {
            "tags": [],
            "needs_background": "light"
          }
        }
      ]
    },
    {
      "cell_type": "code",
      "metadata": {
        "id": "46ZsNjmvogTU",
        "colab": {
          "base_uri": "https://localhost:8080/"
        },
        "outputId": "359c2766-0e0c-4278-bf1c-69821dbb96ac"
      },
      "source": [
        "test_acc,test_loss,preds,labels = evaluate(model, test_iterator,\"testing\")"
      ],
      "execution_count": 78,
      "outputs": [
        {
          "output_type": "stream",
          "text": [
            "/usr/local/lib/python3.7/dist-packages/torchtext/data/batch.py:23: UserWarning: Batch class will be retired in the 0.8.0 release and moved to torchtext.legacy. Please see 0.7.0 release notes for further information.\n",
            "  warnings.warn('{} class will be retired in the 0.8.0 release and moved to torchtext.legacy. Please see 0.7.0 release notes for further information.'.format(self.__class__.__name__), UserWarning)\n",
            "0% [██████████████████████████████] 100% | ETA: 00:00:00\n",
            "Total time elapsed: 00:00:01\n"
          ],
          "name": "stderr"
        }
      ]
    },
    {
      "cell_type": "code",
      "metadata": {
        "id": "CXpOQhrsbQ-n",
        "colab": {
          "base_uri": "https://localhost:8080/"
        },
        "outputId": "328656db-600d-4659-add5-482c2df928f1"
      },
      "source": [
        "print(f'\\tTest Loss: {test_loss:.3f} | Test Acc: {test_acc*100:.2f}%')"
      ],
      "execution_count": 79,
      "outputs": [
        {
          "output_type": "stream",
          "text": [
            "\tTest Loss: 0.950 | Test Acc: 70.29%\n"
          ],
          "name": "stdout"
        }
      ]
    },
    {
      "cell_type": "code",
      "metadata": {
        "id": "WxbhHS07Gkc2"
      },
      "source": [
        "preds = np.concatenate(preds)\n",
        "labels = np.concatenate(labels)\n",
        "\n",
        "prc,rec,fs = precision_score(labels,preds),recall_score(labels,preds),f1_score(labels,preds)"
      ],
      "execution_count": 80,
      "outputs": []
    },
    {
      "cell_type": "code",
      "metadata": {
        "id": "ndBHajOggWD7",
        "colab": {
          "base_uri": "https://localhost:8080/"
        },
        "outputId": "43e88882-6b0e-4478-f7b9-04ac859e6b0c"
      },
      "source": [
        "print(f'\\tTest Loss: {test_loss:.3f} | Test Acc: {test_acc*100:.2f}% | Precision: {prc*100:.2f}% | Recall: {rec*100:.2f}% | F1-Score: {fs*100:.2f}%')"
      ],
      "execution_count": 81,
      "outputs": [
        {
          "output_type": "stream",
          "text": [
            "\tTest Loss: 0.950 | Test Acc: 70.29% | Precision: 67.97% | Recall: 75.39% | F1-Score: 71.49%\n"
          ],
          "name": "stdout"
        }
      ]
    },
    {
      "cell_type": "markdown",
      "metadata": {
        "id": "XM1rrkYNqSGj"
      },
      "source": [
        "# For Setting2: \n",
        "**Hyperparameters:**\n",
        "*   Epoch number=10\n",
        "*   Learning rate=0.001\n",
        "*   batch size= 8\n",
        "*   Number of nodes in hidden layer = 150"
      ]
    },
    {
      "cell_type": "code",
      "metadata": {
        "colab": {
          "base_uri": "https://localhost:8080/"
        },
        "id": "ZIdPO1LuvGWy",
        "outputId": "d404c78d-e8db-4689-b0f4-0ac20382e90e"
      },
      "source": [
        "# Hyperparameters\n",
        "num_epochs = 10\n",
        "learning_rate = 0.001\n",
        "\n",
        "INPUT_DIM = len(TEXT.vocab)\n",
        "EMBEDDING_DIM = 300\n",
        "HIDDEN_DIM = 150\n",
        "OUTPUT_DIM = 1\n",
        "#N_LAYERS = 2\n",
        "BIDIRECTIONAL = True\n",
        "DROPOUT = 0.1\n",
        "PAD_IDX = TEXT.vocab.stoi[TEXT.pad_token] # padding\n",
        "BATCH_SIZE = 8\n",
        "\n",
        "device = torch.device('cuda:0' if torch.cuda.is_available() else 'cpu')\n",
        "print(device)\n",
        "# keep in mind the sort_key option \n",
        "train_iterator, valid_iterator, test_iterator = data.BucketIterator.splits(\n",
        "    (train_data, valid_data, test_data), sort_key=lambda x: len(x.text),sort_within_batch = True,\n",
        "    batch_size=BATCH_SIZE,\n",
        "    device=device)\n",
        "\n",
        "class LSTM_net(nn.Module):\n",
        "    def __init__(self, vocab_size, embedding_dim, hidden_dim, output_dim,\n",
        "                 bidirectional, dropout, pad_idx):\n",
        "        \n",
        "        super().__init__()\n",
        "        \n",
        "        self.embedding = nn.Embedding(vocab_size, embedding_dim, padding_idx = pad_idx)\n",
        "        \n",
        "        self.rnn = nn.LSTM(embedding_dim, \n",
        "                           hidden_dim, \n",
        "                           bidirectional=bidirectional, \n",
        "                           dropout=dropout)\n",
        "        \n",
        "        self.fc1 = nn.Linear(hidden_dim * 2, hidden_dim)\n",
        "        \n",
        "        self.fc2 = nn.Linear(hidden_dim, 1)\n",
        "        \n",
        "        self.dropout = nn.Dropout(dropout)\n",
        "        \n",
        "    def forward(self, text, text_lengths):\n",
        "        \n",
        "        # text = [sent len, batch size]\n",
        "        \n",
        "        embedded = self.embedding(text)\n",
        "        \n",
        "        # embedded = [sent len, batch size, emb dim]\n",
        "        \n",
        "        #pack sequence\n",
        "        packed_embedded = nn.utils.rnn.pack_padded_sequence(embedded, text_lengths)\n",
        "        \n",
        "        packed_output, (hidden, cell) = self.rnn(packed_embedded)\n",
        "        \n",
        "        #unpack sequence\n",
        "        # output, output_lengths = nn.utils.rnn.pad_packed_sequence(packed_output)\n",
        "\n",
        "        # output = [sent len, batch size, hid dim * num directions]\n",
        "        # output over padding tokens are zero tensors\n",
        "        \n",
        "        # hidden = [num layers * num directions, batch size, hid dim]\n",
        "        # cell = [num layers * num directions, batch size, hid dim]\n",
        "        \n",
        "        # concat the final forward (hidden[-2,:,:]) and backward (hidden[-1,:,:]) hidden layers\n",
        "        # and apply dropout\n",
        "        \n",
        "        hidden = self.dropout(torch.cat((hidden[-2,:,:], hidden[-1,:,:]), dim = 1))\n",
        "        output = self.fc1(hidden)\n",
        "        output = self.dropout(self.fc2(output))\n",
        "                \n",
        "        #hidden = [batch size, hid dim * num directions]\n",
        "            \n",
        "        return output\n",
        "\n",
        "#creating instance of our LSTM_net class\n",
        "\n",
        "model = LSTM_net(INPUT_DIM, \n",
        "            EMBEDDING_DIM, \n",
        "            HIDDEN_DIM, \n",
        "            OUTPUT_DIM,  \n",
        "            BIDIRECTIONAL, \n",
        "            DROPOUT, \n",
        "            PAD_IDX)\n",
        "\n",
        "pretrained_embeddings = TEXT.vocab.vectors\n",
        "model.embedding.weight.data.copy_(pretrained_embeddings)\n",
        "\n",
        "#  to initiaise padded to zeros\n",
        "model.embedding.weight.data[PAD_IDX] = torch.zeros(EMBEDDING_DIM)\n",
        "\n",
        "\n",
        "model.to(device) #CNN to GPU\n",
        "# Loss and optimizer\n",
        "criterion = nn.BCEWithLogitsLoss()\n",
        "optimizer = torch.optim.AdamW(model.parameters(), lr=learning_rate)\n",
        "\n",
        "def binary_accuracy(preds, y):\n",
        "    \"\"\"\n",
        "    Returns accuracy per batch, i.e. if you get 8/10 right, this returns 0.8, NOT 8\n",
        "    \"\"\"\n",
        "\n",
        "    #round predictions to the closest integer\n",
        "    rounded_preds = torch.round(torch.sigmoid(preds))\n",
        "    correct = (rounded_preds == y).float() #convert into float for division \n",
        "    acc = correct.sum() / len(correct)\n",
        "    return acc\n",
        "\n",
        "# training function \n",
        "def train(model, iterator):\n",
        "    \n",
        "    epoch_loss = 0\n",
        "    epoch_acc = 0\n",
        "    \n",
        "    model.train()\n",
        "    bar = pyprind.ProgBar(len(iterator), bar_char='█')\n",
        "    for batch in iterator:\n",
        "        \n",
        "        text, text_lengths = batch.text\n",
        "        \n",
        "        optimizer.zero_grad()\n",
        "        predictions = model(text, text_lengths).squeeze(1)\n",
        "        loss = criterion(predictions, batch.tag)\n",
        "        acc = binary_accuracy(predictions, batch.tag)\n",
        "\n",
        "        loss.backward()\n",
        "        optimizer.step()\n",
        "        \n",
        "        epoch_loss += loss.item()\n",
        "        epoch_acc += acc.item()\n",
        "        \n",
        "        bar.update()\n",
        "    return epoch_loss / len(iterator), epoch_acc / len(iterator)\n",
        "\n",
        "def evaluate(model, iterator,mode):\n",
        "    \n",
        "    epoch_acc = 0\n",
        "    epoch_loss=0\n",
        "    preds,labels=[],[]\n",
        "    model.eval()\n",
        "    \n",
        "    with torch.no_grad():\n",
        "        bar = pyprind.ProgBar(len(iterator), bar_char='█')\n",
        "        for batch in iterator:\n",
        "            \n",
        "            text, text_lengths = batch.text\n",
        "            predictions = model(text, text_lengths).squeeze(1)\n",
        "            acc = binary_accuracy(predictions, batch.tag)\n",
        "            loss = criterion(predictions, batch.tag)\n",
        "            \n",
        "            rounded_preds = torch.round(torch.sigmoid(predictions))\n",
        "            logits = rounded_preds.detach().cpu().numpy()\n",
        "            label_ids = batch.tag.to('cpu').numpy()\n",
        "            \n",
        "            preds.append(logits)\n",
        "            labels.append(label_ids)\n",
        "\n",
        "            epoch_acc += acc.item()\n",
        "            epoch_loss+=loss.item()\n",
        "            bar.update()\n",
        "    if mode ==\"validation\":        \n",
        "      return epoch_acc / len(iterator),epoch_loss / len(iterator)\n",
        "    if mode ==\"testing\":\n",
        "      return epoch_acc / len(iterator),epoch_loss / len(iterator),preds,labels\n",
        "\n",
        "t = time.time()\n",
        "loss=[]\n",
        "acc=[]\n",
        "val_acc=[]\n",
        "val_loss=[]\n",
        "same_loss_count=0\n",
        "prev_loss = 0\n",
        "for epoch in range(num_epochs):\n",
        "    print(f'Epoch Number: {epoch}\\n')\n",
        "    train_loss, train_acc = train(model, train_iterator)\n",
        "    valid_acc,valid_loss = evaluate(model, valid_iterator,\"validation\")\n",
        "\n",
        "    print(f'\\tTrain Loss: {train_loss:.3f} | Train Acc: {train_acc*100:.2f}%')\n",
        "    print(f'\\tVal. Loss: {valid_loss:.3f} | Val. Acc: {valid_acc*100:.2f}%')\n",
        "    \n",
        "    #print(f'\\t Val. Acc: {valid_acc*100:.2f}%')\n",
        "    \n",
        "    loss.append(train_loss)\n",
        "    acc.append(train_acc)\n",
        "    val_acc.append(valid_acc)\n",
        "    val_loss.append(valid_loss)\n",
        "    \n",
        "    if np.abs(prev_loss-valid_loss)<0.001:\n",
        "      same_loss_count+=1\n",
        "\n",
        "    prev_loss=valid_loss\n",
        "    if same_loss_count == 3:\n",
        "      break\n",
        "      \n",
        "print(f'time:{time.time()-t:.3f}')\n",
        "\n"
      ],
      "execution_count": 82,
      "outputs": [
        {
          "output_type": "stream",
          "text": [
            "cuda:0\n",
            "Epoch Number: 0\n",
            "\n"
          ],
          "name": "stdout"
        },
        {
          "output_type": "stream",
          "text": [
            "/usr/local/lib/python3.7/dist-packages/torchtext/data/iterator.py:48: UserWarning: BucketIterator class will be retired in the 0.8.0 release and moved to torchtext.legacy. Please see 0.7.0 release notes for further information.\n",
            "  warnings.warn('{} class will be retired in the 0.8.0 release and moved to torchtext.legacy. Please see 0.7.0 release notes for further information.'.format(self.__class__.__name__), UserWarning)\n",
            "/usr/local/lib/python3.7/dist-packages/torch/nn/modules/rnn.py:60: UserWarning: dropout option adds dropout after all but last recurrent layer, so non-zero dropout expects num_layers greater than 1, but got dropout=0.1 and num_layers=1\n",
            "  \"num_layers={}\".format(dropout, num_layers))\n",
            "/usr/local/lib/python3.7/dist-packages/torchtext/data/batch.py:23: UserWarning: Batch class will be retired in the 0.8.0 release and moved to torchtext.legacy. Please see 0.7.0 release notes for further information.\n",
            "  warnings.warn('{} class will be retired in the 0.8.0 release and moved to torchtext.legacy. Please see 0.7.0 release notes for further information.'.format(self.__class__.__name__), UserWarning)\n",
            "0% [██████████████████████████████] 100% | ETA: 00:00:00\n",
            "Total time elapsed: 00:01:06\n",
            "0% [██████████████████████████████] 100% | ETA: 00:00:00"
          ],
          "name": "stderr"
        },
        {
          "output_type": "stream",
          "text": [
            "\tTrain Loss: 0.606 | Train Acc: 65.82%\n",
            "\tVal. Loss: 0.544 | Val. Acc: 72.74%\n",
            "Epoch Number: 1\n",
            "\n"
          ],
          "name": "stdout"
        },
        {
          "output_type": "stream",
          "text": [
            "\n",
            "Total time elapsed: 00:00:01\n",
            "0% [██████████████████████████████] 100% | ETA: 00:00:00\n",
            "Total time elapsed: 00:01:06\n",
            "0% [██████████████████████████████] 100% | ETA: 00:00:00"
          ],
          "name": "stderr"
        },
        {
          "output_type": "stream",
          "text": [
            "\tTrain Loss: 0.442 | Train Acc: 77.76%\n",
            "\tVal. Loss: 0.528 | Val. Acc: 73.32%\n",
            "Epoch Number: 2\n",
            "\n"
          ],
          "name": "stdout"
        },
        {
          "output_type": "stream",
          "text": [
            "\n",
            "Total time elapsed: 00:00:01\n",
            "0% [██████████████████████████████] 100% | ETA: 00:00:00\n",
            "Total time elapsed: 00:01:06\n",
            "0% [██████████████████████████████] 100% | ETA: 00:00:00"
          ],
          "name": "stderr"
        },
        {
          "output_type": "stream",
          "text": [
            "\tTrain Loss: 0.323 | Train Acc: 83.75%\n",
            "\tVal. Loss: 0.566 | Val. Acc: 73.22%\n",
            "Epoch Number: 3\n",
            "\n"
          ],
          "name": "stdout"
        },
        {
          "output_type": "stream",
          "text": [
            "\n",
            "Total time elapsed: 00:00:01\n",
            "0% [██████████████████████████████] 100% | ETA: 00:00:00\n",
            "Total time elapsed: 00:01:06\n",
            "0% [██████████████████████████████] 100% | ETA: 00:00:00"
          ],
          "name": "stderr"
        },
        {
          "output_type": "stream",
          "text": [
            "\tTrain Loss: 0.239 | Train Acc: 87.69%\n",
            "\tVal. Loss: 0.697 | Val. Acc: 72.22%\n",
            "Epoch Number: 4\n",
            "\n"
          ],
          "name": "stdout"
        },
        {
          "output_type": "stream",
          "text": [
            "\n",
            "Total time elapsed: 00:00:01\n",
            "0% [██████████████████████████████] 100% | ETA: 00:00:00\n",
            "Total time elapsed: 00:01:06\n",
            "0% [██████████████████████████████] 100% | ETA: 00:00:00"
          ],
          "name": "stderr"
        },
        {
          "output_type": "stream",
          "text": [
            "\tTrain Loss: 0.178 | Train Acc: 90.59%\n",
            "\tVal. Loss: 0.978 | Val. Acc: 70.68%\n",
            "Epoch Number: 5\n",
            "\n"
          ],
          "name": "stdout"
        },
        {
          "output_type": "stream",
          "text": [
            "\n",
            "Total time elapsed: 00:00:01\n",
            "0% [██████████████████████████████] 100% | ETA: 00:00:00\n",
            "Total time elapsed: 00:01:06\n",
            "0% [██████████████████████████████] 100% | ETA: 00:00:00"
          ],
          "name": "stderr"
        },
        {
          "output_type": "stream",
          "text": [
            "\tTrain Loss: 0.141 | Train Acc: 92.06%\n",
            "\tVal. Loss: 1.279 | Val. Acc: 71.09%\n",
            "Epoch Number: 6\n",
            "\n"
          ],
          "name": "stdout"
        },
        {
          "output_type": "stream",
          "text": [
            "\n",
            "Total time elapsed: 00:00:01\n",
            "0% [██████████████████████████████] 100% | ETA: 00:00:00\n",
            "Total time elapsed: 00:01:06\n",
            "0% [██████████████████████████████] 100% | ETA: 00:00:00"
          ],
          "name": "stderr"
        },
        {
          "output_type": "stream",
          "text": [
            "\tTrain Loss: 0.120 | Train Acc: 93.00%\n",
            "\tVal. Loss: 1.325 | Val. Acc: 71.18%\n",
            "Epoch Number: 7\n",
            "\n"
          ],
          "name": "stdout"
        },
        {
          "output_type": "stream",
          "text": [
            "\n",
            "Total time elapsed: 00:00:01\n",
            "0% [██████████████████████████████] 100% | ETA: 00:00:00\n",
            "Total time elapsed: 00:01:06\n",
            "0% [██████████████████████████████] 100% | ETA: 00:00:00"
          ],
          "name": "stderr"
        },
        {
          "output_type": "stream",
          "text": [
            "\tTrain Loss: 0.109 | Train Acc: 93.44%\n",
            "\tVal. Loss: 1.308 | Val. Acc: 69.84%\n",
            "Epoch Number: 8\n",
            "\n"
          ],
          "name": "stdout"
        },
        {
          "output_type": "stream",
          "text": [
            "\n",
            "Total time elapsed: 00:00:01\n",
            "0% [██████████████████████████████] 100% | ETA: 00:00:00\n",
            "Total time elapsed: 00:01:06\n",
            "0% [██████████████████████████████] 100% | ETA: 00:00:00"
          ],
          "name": "stderr"
        },
        {
          "output_type": "stream",
          "text": [
            "\tTrain Loss: 0.102 | Train Acc: 93.82%\n",
            "\tVal. Loss: 1.431 | Val. Acc: 70.59%\n",
            "Epoch Number: 9\n",
            "\n"
          ],
          "name": "stdout"
        },
        {
          "output_type": "stream",
          "text": [
            "\n",
            "Total time elapsed: 00:00:01\n",
            "0% [██████████████████████████████] 100% | ETA: 00:00:00\n",
            "Total time elapsed: 00:01:06\n",
            "0% [██████████████████████████████] 100% | ETA: 00:00:00"
          ],
          "name": "stderr"
        },
        {
          "output_type": "stream",
          "text": [
            "\tTrain Loss: 0.098 | Train Acc: 93.82%\n",
            "\tVal. Loss: 1.231 | Val. Acc: 69.46%\n",
            "time:677.653\n"
          ],
          "name": "stdout"
        },
        {
          "output_type": "stream",
          "text": [
            "\n",
            "Total time elapsed: 00:00:01\n"
          ],
          "name": "stderr"
        }
      ]
    },
    {
      "cell_type": "code",
      "metadata": {
        "colab": {
          "base_uri": "https://localhost:8080/",
          "height": 424
        },
        "id": "TqjijsQDxHGh",
        "outputId": "0cedc7a6-1d9b-46b8-d961-6efbcf72937a"
      },
      "source": [
        "plt.xlabel(\"runs\")\n",
        "plt.ylabel(\"normalised measure of loss/accuracy\")\n",
        "x_len=list(range(len(val_loss)))\n",
        "plt.axis([0, max(x_len), 0, 1])\n",
        "plt.title('result of LSTM')\n",
        "loss=np.asarray(loss)/max(loss)\n",
        "plt.plot(x_len, loss, 'r+',label=\"loss\")\n",
        "plt.plot(x_len, acc, 'b.', label=\"accuracy\")\n",
        "plt.plot(x_len, val_acc, 'g.', label=\"val_accuracy\")\n",
        "plt.plot(x_len, val_loss, 'g+', label=\"val_loss\")\n",
        "\n",
        "plt.legend(bbox_to_anchor=(1.05, 1), loc=2, borderaxespad=0.2)\n",
        "plt.show\n",
        "\n",
        "\n",
        "test_acc,test_loss,preds,labels = evaluate(model, test_iterator,\"testing\")\n",
        "\n",
        "print(f'\\tTest Loss: {test_loss:.3f} | Test Acc: {test_acc*100:.2f}%')\n",
        "preds = np.concatenate(preds)\n",
        "labels = np.concatenate(labels)\n",
        "\n",
        "prc,rec,fs = precision_score(labels,preds),recall_score(labels,preds),f1_score(labels,preds)\n",
        "print(f'\\tTest Loss: {test_loss:.3f} | Test Acc: {test_acc*100:.2f}% | Precision: {prc*100:.2f}% | Recall: {rec*100:.2f}% | F1-Score: {fs*100:.2f}%')"
      ],
      "execution_count": 83,
      "outputs": [
        {
          "output_type": "stream",
          "text": [
            "/usr/local/lib/python3.7/dist-packages/torchtext/data/batch.py:23: UserWarning: Batch class will be retired in the 0.8.0 release and moved to torchtext.legacy. Please see 0.7.0 release notes for further information.\n",
            "  warnings.warn('{} class will be retired in the 0.8.0 release and moved to torchtext.legacy. Please see 0.7.0 release notes for further information.'.format(self.__class__.__name__), UserWarning)\n",
            "0% [██████████████████████████████] 100% | ETA: 00:00:00\n",
            "Total time elapsed: 00:00:01\n"
          ],
          "name": "stderr"
        },
        {
          "output_type": "stream",
          "text": [
            "\tTest Loss: 1.282 | Test Acc: 68.54%\n",
            "\tTest Loss: 1.282 | Test Acc: 68.54% | Precision: 69.25% | Recall: 65.35% | F1-Score: 67.25%\n"
          ],
          "name": "stdout"
        },
        {
          "output_type": "display_data",
          "data": {
            "image/png": "[encoded data removed]",
            "text/plain": [
              "<Figure size 432x288 with 1 Axes>"
            ]
          },
          "metadata": {
            "tags": [],
            "needs_background": "light"
          }
        }
      ]
    },
    {
      "cell_type": "markdown",
      "metadata": {
        "id": "YgLCnyLdSSQm"
      },
      "source": [
        "# For Setting3: \n",
        "**Hyperparameters:**\n",
        "*   Epoch number=15\n",
        "*   Learning rate=0.001\n",
        "*   batch size= 8\n",
        "*   Number of nodes in hidden layer = 200"
      ]
    },
    {
      "cell_type": "code",
      "metadata": {
        "colab": {
          "base_uri": "https://localhost:8080/"
        },
        "id": "rbp9qQgsSf_f",
        "outputId": "7186aa75-6728-407e-ee7b-d2f3aaf0119e"
      },
      "source": [
        "# Hyperparameters\n",
        "num_epochs = 15\n",
        "learning_rate = 0.001\n",
        "\n",
        "INPUT_DIM = len(TEXT.vocab)\n",
        "EMBEDDING_DIM = 300\n",
        "HIDDEN_DIM = 200\n",
        "OUTPUT_DIM = 1\n",
        "#N_LAYERS = 2\n",
        "BIDIRECTIONAL = True\n",
        "DROPOUT = 0.1\n",
        "PAD_IDX = TEXT.vocab.stoi[TEXT.pad_token] # padding\n",
        "BATCH_SIZE = 8\n",
        "\n",
        "device = torch.device('cuda:0' if torch.cuda.is_available() else 'cpu')\n",
        "print(device)\n",
        "# keep in mind the sort_key option \n",
        "train_iterator, valid_iterator, test_iterator = data.BucketIterator.splits(\n",
        "    (train_data, valid_data, test_data), sort_key=lambda x: len(x.text),sort_within_batch = True,\n",
        "    batch_size=BATCH_SIZE,\n",
        "    device=device)\n",
        "\n",
        "class LSTM_net(nn.Module):\n",
        "    def __init__(self, vocab_size, embedding_dim, hidden_dim, output_dim,\n",
        "                 bidirectional, dropout, pad_idx):\n",
        "        \n",
        "        super().__init__()\n",
        "        \n",
        "        self.embedding = nn.Embedding(vocab_size, embedding_dim, padding_idx = pad_idx)\n",
        "        \n",
        "        self.rnn = nn.LSTM(embedding_dim, \n",
        "                           hidden_dim, \n",
        "                           bidirectional=bidirectional, \n",
        "                           dropout=dropout)\n",
        "        \n",
        "        self.fc1 = nn.Linear(hidden_dim * 2, hidden_dim)\n",
        "        \n",
        "        self.fc2 = nn.Linear(hidden_dim, 1)\n",
        "        \n",
        "        self.dropout = nn.Dropout(dropout)\n",
        "        \n",
        "    def forward(self, text, text_lengths):\n",
        "        \n",
        "        # text = [sent len, batch size]\n",
        "        \n",
        "        embedded = self.embedding(text)\n",
        "        \n",
        "        # embedded = [sent len, batch size, emb dim]\n",
        "        \n",
        "        #pack sequence\n",
        "        packed_embedded = nn.utils.rnn.pack_padded_sequence(embedded, text_lengths)\n",
        "        \n",
        "        packed_output, (hidden, cell) = self.rnn(packed_embedded)\n",
        "        \n",
        "        #unpack sequence\n",
        "        # output, output_lengths = nn.utils.rnn.pad_packed_sequence(packed_output)\n",
        "\n",
        "        # output = [sent len, batch size, hid dim * num directions]\n",
        "        # output over padding tokens are zero tensors\n",
        "        \n",
        "        # hidden = [num layers * num directions, batch size, hid dim]\n",
        "        # cell = [num layers * num directions, batch size, hid dim]\n",
        "        \n",
        "        # concat the final forward (hidden[-2,:,:]) and backward (hidden[-1,:,:]) hidden layers\n",
        "        # and apply dropout\n",
        "        \n",
        "        hidden = self.dropout(torch.cat((hidden[-2,:,:], hidden[-1,:,:]), dim = 1))\n",
        "        output = self.fc1(hidden)\n",
        "        output = self.dropout(self.fc2(output))\n",
        "                \n",
        "        #hidden = [batch size, hid dim * num directions]\n",
        "            \n",
        "        return output\n",
        "\n",
        "#creating instance of our LSTM_net class\n",
        "\n",
        "model = LSTM_net(INPUT_DIM, \n",
        "            EMBEDDING_DIM, \n",
        "            HIDDEN_DIM, \n",
        "            OUTPUT_DIM,  \n",
        "            BIDIRECTIONAL, \n",
        "            DROPOUT, \n",
        "            PAD_IDX)\n",
        "\n",
        "pretrained_embeddings = TEXT.vocab.vectors\n",
        "model.embedding.weight.data.copy_(pretrained_embeddings)\n",
        "\n",
        "#  to initiaise padded to zeros\n",
        "model.embedding.weight.data[PAD_IDX] = torch.zeros(EMBEDDING_DIM)\n",
        "\n",
        "\n",
        "model.to(device) #CNN to GPU\n",
        "# Loss and optimizer\n",
        "criterion = nn.BCEWithLogitsLoss()\n",
        "optimizer = torch.optim.AdamW(model.parameters(), lr=learning_rate)\n",
        "\n",
        "def binary_accuracy(preds, y):\n",
        "    \"\"\"\n",
        "    Returns accuracy per batch, i.e. if you get 8/10 right, this returns 0.8, NOT 8\n",
        "    \"\"\"\n",
        "\n",
        "    #round predictions to the closest integer\n",
        "    rounded_preds = torch.round(torch.sigmoid(preds))\n",
        "    correct = (rounded_preds == y).float() #convert into float for division \n",
        "    acc = correct.sum() / len(correct)\n",
        "    return acc\n",
        "\n",
        "# training function \n",
        "def train(model, iterator):\n",
        "    \n",
        "    epoch_loss = 0\n",
        "    epoch_acc = 0\n",
        "    \n",
        "    model.train()\n",
        "    bar = pyprind.ProgBar(len(iterator), bar_char='█')\n",
        "    for batch in iterator:\n",
        "        \n",
        "        text, text_lengths = batch.text\n",
        "        \n",
        "        optimizer.zero_grad()\n",
        "        predictions = model(text, text_lengths).squeeze(1)\n",
        "        loss = criterion(predictions, batch.tag)\n",
        "        acc = binary_accuracy(predictions, batch.tag)\n",
        "\n",
        "        loss.backward()\n",
        "        optimizer.step()\n",
        "        \n",
        "        epoch_loss += loss.item()\n",
        "        epoch_acc += acc.item()\n",
        "        \n",
        "        bar.update()\n",
        "    return epoch_loss / len(iterator), epoch_acc / len(iterator)\n",
        "\n",
        "def evaluate(model, iterator,mode):\n",
        "    \n",
        "    epoch_acc = 0\n",
        "    epoch_loss=0\n",
        "    preds,labels=[],[]\n",
        "    model.eval()\n",
        "    \n",
        "    with torch.no_grad():\n",
        "        bar = pyprind.ProgBar(len(iterator), bar_char='█')\n",
        "        for batch in iterator:\n",
        "            \n",
        "            text, text_lengths = batch.text\n",
        "            predictions = model(text, text_lengths).squeeze(1)\n",
        "            acc = binary_accuracy(predictions, batch.tag)\n",
        "            loss = criterion(predictions, batch.tag)\n",
        "            \n",
        "            rounded_preds = torch.round(torch.sigmoid(predictions))\n",
        "            logits = rounded_preds.detach().cpu().numpy()\n",
        "            label_ids = batch.tag.to('cpu').numpy()\n",
        "            \n",
        "            preds.append(logits)\n",
        "            labels.append(label_ids)\n",
        "\n",
        "            epoch_acc += acc.item()\n",
        "            epoch_loss+=loss.item()\n",
        "            bar.update()\n",
        "    if mode ==\"validation\":        \n",
        "      return epoch_acc / len(iterator),epoch_loss / len(iterator)\n",
        "    if mode ==\"testing\":\n",
        "      return epoch_acc / len(iterator),epoch_loss / len(iterator),preds,labels\n",
        "\n",
        "t = time.time()\n",
        "loss=[]\n",
        "acc=[]\n",
        "val_acc=[]\n",
        "val_loss=[]\n",
        "same_loss_count=0\n",
        "prev_loss = 0\n",
        "for epoch in range(num_epochs):\n",
        "    print(f'Epoch Number: {epoch}\\n')\n",
        "    train_loss, train_acc = train(model, train_iterator)\n",
        "    valid_acc,valid_loss = evaluate(model, valid_iterator,\"validation\")\n",
        "\n",
        "    print(f'\\tTrain Loss: {train_loss:.3f} | Train Acc: {train_acc*100:.2f}%')\n",
        "    print(f'\\tVal. Loss: {valid_loss:.3f} | Val. Acc: {valid_acc*100:.2f}%')\n",
        "    \n",
        "    #print(f'\\t Val. Acc: {valid_acc*100:.2f}%')\n",
        "    \n",
        "    loss.append(train_loss)\n",
        "    acc.append(train_acc)\n",
        "    val_acc.append(valid_acc)\n",
        "    val_loss.append(valid_loss)\n",
        "    \n",
        "    if np.abs(prev_loss-valid_loss)<0.001:\n",
        "      same_loss_count+=1\n",
        "\n",
        "    prev_loss=valid_loss\n",
        "    if same_loss_count == 3:\n",
        "      break\n",
        "      \n",
        "print(f'time:{time.time()-t:.3f}')\n",
        "\n"
      ],
      "execution_count": 84,
      "outputs": [
        {
          "output_type": "stream",
          "text": [
            "cuda:0\n",
            "Epoch Number: 0\n",
            "\n"
          ],
          "name": "stdout"
        },
        {
          "output_type": "stream",
          "text": [
            "/usr/local/lib/python3.7/dist-packages/torchtext/data/iterator.py:48: UserWarning: BucketIterator class will be retired in the 0.8.0 release and moved to torchtext.legacy. Please see 0.7.0 release notes for further information.\n",
            "  warnings.warn('{} class will be retired in the 0.8.0 release and moved to torchtext.legacy. Please see 0.7.0 release notes for further information.'.format(self.__class__.__name__), UserWarning)\n",
            "/usr/local/lib/python3.7/dist-packages/torch/nn/modules/rnn.py:60: UserWarning: dropout option adds dropout after all but last recurrent layer, so non-zero dropout expects num_layers greater than 1, but got dropout=0.1 and num_layers=1\n",
            "  \"num_layers={}\".format(dropout, num_layers))\n",
            "/usr/local/lib/python3.7/dist-packages/torchtext/data/batch.py:23: UserWarning: Batch class will be retired in the 0.8.0 release and moved to torchtext.legacy. Please see 0.7.0 release notes for further information.\n",
            "  warnings.warn('{} class will be retired in the 0.8.0 release and moved to torchtext.legacy. Please see 0.7.0 release notes for further information.'.format(self.__class__.__name__), UserWarning)\n",
            "0% [██████████████████████████████] 100% | ETA: 00:00:00\n",
            "Total time elapsed: 00:01:06\n",
            "0% [██████████████████████████████] 100% | ETA: 00:00:00\n",
            "Total time elapsed: 00:00:01\n"
          ],
          "name": "stderr"
        },
        {
          "output_type": "stream",
          "text": [
            "\tTrain Loss: 0.606 | Train Acc: 65.71%\n",
            "\tVal. Loss: 0.541 | Val. Acc: 72.14%\n",
            "Epoch Number: 1\n",
            "\n"
          ],
          "name": "stdout"
        },
        {
          "output_type": "stream",
          "text": [
            "0% [██████████████████████████████] 100% | ETA: 00:00:00\n",
            "Total time elapsed: 00:01:06\n",
            "0% [██████████████████████████████] 100% | ETA: 00:00:00"
          ],
          "name": "stderr"
        },
        {
          "output_type": "stream",
          "text": [
            "\tTrain Loss: 0.443 | Train Acc: 77.64%\n",
            "\tVal. Loss: 0.525 | Val. Acc: 73.22%\n",
            "Epoch Number: 2\n",
            "\n"
          ],
          "name": "stdout"
        },
        {
          "output_type": "stream",
          "text": [
            "\n",
            "Total time elapsed: 00:00:01\n",
            "0% [██████████████████████████████] 100% | ETA: 00:00:00\n",
            "Total time elapsed: 00:01:06\n",
            "0% [██████████████████████████████] 100% | ETA: 00:00:00\n",
            "Total time elapsed: 00:00:01\n"
          ],
          "name": "stderr"
        },
        {
          "output_type": "stream",
          "text": [
            "\tTrain Loss: 0.329 | Train Acc: 83.49%\n",
            "\tVal. Loss: 0.560 | Val. Acc: 71.98%\n",
            "Epoch Number: 3\n",
            "\n"
          ],
          "name": "stdout"
        },
        {
          "output_type": "stream",
          "text": [
            "0% [██████████████████████████████] 100% | ETA: 00:00:00\n",
            "Total time elapsed: 00:01:07\n",
            "0% [██████████████████████████████] 100% | ETA: 00:00:00"
          ],
          "name": "stderr"
        },
        {
          "output_type": "stream",
          "text": [
            "\tTrain Loss: 0.244 | Train Acc: 87.67%\n",
            "\tVal. Loss: 0.723 | Val. Acc: 72.03%\n",
            "Epoch Number: 4\n",
            "\n"
          ],
          "name": "stdout"
        },
        {
          "output_type": "stream",
          "text": [
            "\n",
            "Total time elapsed: 00:00:01\n",
            "0% [██████████████████████████████] 100% | ETA: 00:00:00\n",
            "Total time elapsed: 00:01:08\n",
            "0% [██████████████████████████████] 100% | ETA: 00:00:00"
          ],
          "name": "stderr"
        },
        {
          "output_type": "stream",
          "text": [
            "\tTrain Loss: 0.182 | Train Acc: 90.36%\n",
            "\tVal. Loss: 0.883 | Val. Acc: 69.82%\n",
            "Epoch Number: 5\n",
            "\n"
          ],
          "name": "stdout"
        },
        {
          "output_type": "stream",
          "text": [
            "\n",
            "Total time elapsed: 00:00:01\n",
            "0% [██████████████████████████████] 100% | ETA: 00:00:00\n",
            "Total time elapsed: 00:01:07\n",
            "0% [██████████████████████████████] 100% | ETA: 00:00:00"
          ],
          "name": "stderr"
        },
        {
          "output_type": "stream",
          "text": [
            "\tTrain Loss: 0.143 | Train Acc: 92.15%\n",
            "\tVal. Loss: 0.996 | Val. Acc: 69.65%\n",
            "Epoch Number: 6\n",
            "\n"
          ],
          "name": "stdout"
        },
        {
          "output_type": "stream",
          "text": [
            "\n",
            "Total time elapsed: 00:00:01\n",
            "0% [██████████████████████████████] 100% | ETA: 00:00:00\n",
            "Total time elapsed: 00:01:06\n",
            "0% [██████████████████████████████] 100% | ETA: 00:00:00"
          ],
          "name": "stderr"
        },
        {
          "output_type": "stream",
          "text": [
            "\tTrain Loss: 0.123 | Train Acc: 92.89%\n",
            "\tVal. Loss: 1.260 | Val. Acc: 70.06%\n",
            "Epoch Number: 7\n",
            "\n"
          ],
          "name": "stdout"
        },
        {
          "output_type": "stream",
          "text": [
            "\n",
            "Total time elapsed: 00:00:01\n",
            "0% [██████████████████████████████] 100% | ETA: 00:00:00\n",
            "Total time elapsed: 00:01:06\n",
            "0% [██████████████████████████████] 100% | ETA: 00:00:00"
          ],
          "name": "stderr"
        },
        {
          "output_type": "stream",
          "text": [
            "\tTrain Loss: 0.111 | Train Acc: 93.44%\n",
            "\tVal. Loss: 1.186 | Val. Acc: 69.10%\n",
            "Epoch Number: 8\n",
            "\n"
          ],
          "name": "stdout"
        },
        {
          "output_type": "stream",
          "text": [
            "\n",
            "Total time elapsed: 00:00:01\n",
            "0% [██████████████████████████████] 100% | ETA: 00:00:00\n",
            "Total time elapsed: 00:01:06\n",
            "0% [██████████████████████████████] 100% | ETA: 00:00:00"
          ],
          "name": "stderr"
        },
        {
          "output_type": "stream",
          "text": [
            "\tTrain Loss: 0.102 | Train Acc: 93.94%\n",
            "\tVal. Loss: 1.427 | Val. Acc: 68.71%\n",
            "Epoch Number: 9\n",
            "\n"
          ],
          "name": "stdout"
        },
        {
          "output_type": "stream",
          "text": [
            "\n",
            "Total time elapsed: 00:00:01\n",
            "0% [██████████████████████████████] 100% | ETA: 00:00:00\n",
            "Total time elapsed: 00:01:06\n",
            "0% [██████████████████████████████] 100% | ETA: 00:00:00"
          ],
          "name": "stderr"
        },
        {
          "output_type": "stream",
          "text": [
            "\tTrain Loss: 0.101 | Train Acc: 93.62%\n",
            "\tVal. Loss: 1.870 | Val. Acc: 69.14%\n",
            "Epoch Number: 10\n",
            "\n"
          ],
          "name": "stdout"
        },
        {
          "output_type": "stream",
          "text": [
            "\n",
            "Total time elapsed: 00:00:01\n",
            "0% [██████████████████████████████] 100% | ETA: 00:00:00\n",
            "Total time elapsed: 00:01:06\n",
            "0% [██████████████████████████████] 100% | ETA: 00:00:00"
          ],
          "name": "stderr"
        },
        {
          "output_type": "stream",
          "text": [
            "\tTrain Loss: 0.094 | Train Acc: 94.11%\n",
            "\tVal. Loss: 1.971 | Val. Acc: 69.72%\n",
            "Epoch Number: 11\n",
            "\n"
          ],
          "name": "stdout"
        },
        {
          "output_type": "stream",
          "text": [
            "\n",
            "Total time elapsed: 00:00:01\n",
            "0% [██████████████████████████████] 100% | ETA: 00:00:00\n",
            "Total time elapsed: 00:01:06\n",
            "0% [██████████████████████████████] 100% | ETA: 00:00:00"
          ],
          "name": "stderr"
        },
        {
          "output_type": "stream",
          "text": [
            "\tTrain Loss: 0.095 | Train Acc: 94.04%\n",
            "\tVal. Loss: 1.609 | Val. Acc: 68.48%\n",
            "Epoch Number: 12\n",
            "\n"
          ],
          "name": "stdout"
        },
        {
          "output_type": "stream",
          "text": [
            "\n",
            "Total time elapsed: 00:00:01\n",
            "0% [██████████████████████████████] 100% | ETA: 00:00:00\n",
            "Total time elapsed: 00:01:06\n",
            "0% [██████████████████████████████] 100% | ETA: 00:00:00"
          ],
          "name": "stderr"
        },
        {
          "output_type": "stream",
          "text": [
            "\tTrain Loss: 0.091 | Train Acc: 94.32%\n",
            "\tVal. Loss: 1.653 | Val. Acc: 69.65%\n",
            "Epoch Number: 13\n",
            "\n"
          ],
          "name": "stdout"
        },
        {
          "output_type": "stream",
          "text": [
            "\n",
            "Total time elapsed: 00:00:01\n",
            "0% [██████████████████████████████] 100% | ETA: 00:00:00\n",
            "Total time elapsed: 00:01:06\n",
            "0% [██████████████████████████████] 100% | ETA: 00:00:00"
          ],
          "name": "stderr"
        },
        {
          "output_type": "stream",
          "text": [
            "\tTrain Loss: 0.093 | Train Acc: 94.03%\n",
            "\tVal. Loss: 1.851 | Val. Acc: 68.86%\n",
            "Epoch Number: 14\n",
            "\n"
          ],
          "name": "stdout"
        },
        {
          "output_type": "stream",
          "text": [
            "\n",
            "Total time elapsed: 00:00:01\n",
            "0% [██████████████████████████████] 100% | ETA: 00:00:00\n",
            "Total time elapsed: 00:01:06\n",
            "0% [██████████████████████████████] 100% | ETA: 00:00:00\n",
            "Total time elapsed: 00:00:01\n"
          ],
          "name": "stderr"
        },
        {
          "output_type": "stream",
          "text": [
            "\tTrain Loss: 0.089 | Train Acc: 94.35%\n",
            "\tVal. Loss: 1.901 | Val. Acc: 68.66%\n",
            "time:1023.427\n"
          ],
          "name": "stdout"
        }
      ]
    },
    {
      "cell_type": "code",
      "metadata": {
        "colab": {
          "base_uri": "https://localhost:8080/",
          "height": 424
        },
        "id": "GAB7SYBsSwk4",
        "outputId": "e7d3dc78-e5f5-4e5d-867f-591aec11fe6e"
      },
      "source": [
        "plt.xlabel(\"runs\")\n",
        "plt.ylabel(\"normalised measure of loss/accuracy\")\n",
        "x_len=list(range(len(val_loss)))\n",
        "plt.axis([0, max(x_len), 0, 1])\n",
        "plt.title('result of LSTM')\n",
        "loss=np.asarray(loss)/max(loss)\n",
        "plt.plot(x_len, loss, 'r+',label=\"loss\")\n",
        "plt.plot(x_len, acc, 'b.', label=\"accuracy\")\n",
        "plt.plot(x_len, val_acc, 'g.', label=\"val_accuracy\")\n",
        "plt.plot(x_len, val_loss, 'g+', label=\"val_loss\")\n",
        "\n",
        "plt.legend(bbox_to_anchor=(1.05, 1), loc=2, borderaxespad=0.2)\n",
        "plt.show\n",
        "\n",
        "\n",
        "test_acc,test_loss,preds,labels = evaluate(model, test_iterator,\"testing\")\n",
        "\n",
        "print(f'\\tTest Loss: {test_loss:.3f} | Test Acc: {test_acc*100:.2f}%')\n",
        "preds = np.concatenate(preds)\n",
        "labels = np.concatenate(labels)\n",
        "\n",
        "prc,rec,fs = precision_score(labels,preds),recall_score(labels,preds),f1_score(labels,preds)\n",
        "print(f'\\tTest Loss: {test_loss:.3f} | Test Acc: {test_acc*100:.2f}% | Precision: {prc*100:.2f}% | Recall: {rec*100:.2f}% | F1-Score: {fs*100:.2f}%')"
      ],
      "execution_count": 85,
      "outputs": [
        {
          "output_type": "stream",
          "text": [
            "/usr/local/lib/python3.7/dist-packages/torchtext/data/batch.py:23: UserWarning: Batch class will be retired in the 0.8.0 release and moved to torchtext.legacy. Please see 0.7.0 release notes for further information.\n",
            "  warnings.warn('{} class will be retired in the 0.8.0 release and moved to torchtext.legacy. Please see 0.7.0 release notes for further information.'.format(self.__class__.__name__), UserWarning)\n",
            "0% [██████████████████████████████] 100% | ETA: 00:00:00\n",
            "Total time elapsed: 00:00:01\n"
          ],
          "name": "stderr"
        },
        {
          "output_type": "stream",
          "text": [
            "\tTest Loss: 1.913 | Test Acc: 69.10%\n",
            "\tTest Loss: 1.913 | Test Acc: 69.10% | Precision: 70.26% | Recall: 64.95% | F1-Score: 67.50%\n"
          ],
          "name": "stdout"
        },
        {
          "output_type": "display_data",
          "data": {
            "image/png": "[encoded data removed]",
            "text/plain": [
              "<Figure size 432x288 with 1 Axes>"
            ]
          },
          "metadata": {
            "tags": [],
            "needs_background": "light"
          }
        }
      ]
    },
    {
      "cell_type": "markdown",
      "metadata": {
        "id": "m6J4Iu_VUzP2"
      },
      "source": [
        "# For Setting4: \n",
        "**Hyperparameters:**\n",
        "*   Epoch number=6\n",
        "*   Learning rate=0.0005\n",
        "*   batch size= 16\n",
        "*   Number of nodes in hidden layer = 300"
      ]
    },
    {
      "cell_type": "code",
      "metadata": {
        "colab": {
          "base_uri": "https://localhost:8080/"
        },
        "id": "k1Dwdqx1U98c",
        "outputId": "c5a4f302-6a11-44da-f176-38e70aac204b"
      },
      "source": [
        "# Hyperparameters\n",
        "num_epochs = 6\n",
        "learning_rate = 0.0005\n",
        "\n",
        "INPUT_DIM = len(TEXT.vocab)\n",
        "EMBEDDING_DIM = 300\n",
        "HIDDEN_DIM = 300\n",
        "OUTPUT_DIM = 1\n",
        "#N_LAYERS = 2\n",
        "BIDIRECTIONAL = True\n",
        "DROPOUT = 0.1\n",
        "PAD_IDX = TEXT.vocab.stoi[TEXT.pad_token] # padding\n",
        "BATCH_SIZE = 16\n",
        "\n",
        "device = torch.device('cuda:0' if torch.cuda.is_available() else 'cpu')\n",
        "print(device)\n",
        "# keep in mind the sort_key option \n",
        "train_iterator, valid_iterator, test_iterator = data.BucketIterator.splits(\n",
        "    (train_data, valid_data, test_data), sort_key=lambda x: len(x.text),sort_within_batch = True,\n",
        "    batch_size=BATCH_SIZE,\n",
        "    device=device)\n",
        "\n",
        "class LSTM_net(nn.Module):\n",
        "    def __init__(self, vocab_size, embedding_dim, hidden_dim, output_dim,\n",
        "                 bidirectional, dropout, pad_idx):\n",
        "        \n",
        "        super().__init__()\n",
        "        \n",
        "        self.embedding = nn.Embedding(vocab_size, embedding_dim, padding_idx = pad_idx)\n",
        "        \n",
        "        self.rnn = nn.LSTM(embedding_dim, \n",
        "                           hidden_dim, \n",
        "                           bidirectional=bidirectional, \n",
        "                           dropout=dropout)\n",
        "        \n",
        "        self.fc1 = nn.Linear(hidden_dim * 2, hidden_dim)\n",
        "        \n",
        "        self.fc2 = nn.Linear(hidden_dim, 1)\n",
        "        \n",
        "        self.dropout = nn.Dropout(dropout)\n",
        "        \n",
        "    def forward(self, text, text_lengths):\n",
        "        \n",
        "        # text = [sent len, batch size]\n",
        "        \n",
        "        embedded = self.embedding(text)\n",
        "        \n",
        "        # embedded = [sent len, batch size, emb dim]\n",
        "        \n",
        "        #pack sequence\n",
        "        packed_embedded = nn.utils.rnn.pack_padded_sequence(embedded, text_lengths)\n",
        "        \n",
        "        packed_output, (hidden, cell) = self.rnn(packed_embedded)\n",
        "        \n",
        "        #unpack sequence\n",
        "        # output, output_lengths = nn.utils.rnn.pad_packed_sequence(packed_output)\n",
        "\n",
        "        # output = [sent len, batch size, hid dim * num directions]\n",
        "        # output over padding tokens are zero tensors\n",
        "        \n",
        "        # hidden = [num layers * num directions, batch size, hid dim]\n",
        "        # cell = [num layers * num directions, batch size, hid dim]\n",
        "        \n",
        "        # concat the final forward (hidden[-2,:,:]) and backward (hidden[-1,:,:]) hidden layers\n",
        "        # and apply dropout\n",
        "        \n",
        "        hidden = self.dropout(torch.cat((hidden[-2,:,:], hidden[-1,:,:]), dim = 1))\n",
        "        output = self.fc1(hidden)\n",
        "        output = self.dropout(self.fc2(output))\n",
        "                \n",
        "        #hidden = [batch size, hid dim * num directions]\n",
        "            \n",
        "        return output\n",
        "\n",
        "#creating instance of our LSTM_net class\n",
        "\n",
        "model = LSTM_net(INPUT_DIM, \n",
        "            EMBEDDING_DIM, \n",
        "            HIDDEN_DIM, \n",
        "            OUTPUT_DIM,  \n",
        "            BIDIRECTIONAL, \n",
        "            DROPOUT, \n",
        "            PAD_IDX)\n",
        "\n",
        "pretrained_embeddings = TEXT.vocab.vectors\n",
        "model.embedding.weight.data.copy_(pretrained_embeddings)\n",
        "\n",
        "#  to initiaise padded to zeros\n",
        "model.embedding.weight.data[PAD_IDX] = torch.zeros(EMBEDDING_DIM)\n",
        "\n",
        "\n",
        "model.to(device) #CNN to GPU\n",
        "# Loss and optimizer\n",
        "criterion = nn.BCEWithLogitsLoss()\n",
        "optimizer = torch.optim.AdamW(model.parameters(), lr=learning_rate)\n",
        "\n",
        "def binary_accuracy(preds, y):\n",
        "    \"\"\"\n",
        "    Returns accuracy per batch, i.e. if you get 8/10 right, this returns 0.8, NOT 8\n",
        "    \"\"\"\n",
        "\n",
        "    #round predictions to the closest integer\n",
        "    rounded_preds = torch.round(torch.sigmoid(preds))\n",
        "    correct = (rounded_preds == y).float() #convert into float for division \n",
        "    acc = correct.sum() / len(correct)\n",
        "    return acc\n",
        "\n",
        "# training function \n",
        "def train(model, iterator):\n",
        "    \n",
        "    epoch_loss = 0\n",
        "    epoch_acc = 0\n",
        "    \n",
        "    model.train()\n",
        "    bar = pyprind.ProgBar(len(iterator), bar_char='█')\n",
        "    for batch in iterator:\n",
        "        \n",
        "        text, text_lengths = batch.text\n",
        "        \n",
        "        optimizer.zero_grad()\n",
        "        predictions = model(text, text_lengths).squeeze(1)\n",
        "        loss = criterion(predictions, batch.tag)\n",
        "        acc = binary_accuracy(predictions, batch.tag)\n",
        "\n",
        "        loss.backward()\n",
        "        optimizer.step()\n",
        "        \n",
        "        epoch_loss += loss.item()\n",
        "        epoch_acc += acc.item()\n",
        "        \n",
        "        bar.update()\n",
        "    return epoch_loss / len(iterator), epoch_acc / len(iterator)\n",
        "\n",
        "def evaluate(model, iterator,mode):\n",
        "    \n",
        "    epoch_acc = 0\n",
        "    epoch_loss=0\n",
        "    preds,labels=[],[]\n",
        "    model.eval()\n",
        "    \n",
        "    with torch.no_grad():\n",
        "        bar = pyprind.ProgBar(len(iterator), bar_char='█')\n",
        "        for batch in iterator:\n",
        "            \n",
        "            text, text_lengths = batch.text\n",
        "            predictions = model(text, text_lengths).squeeze(1)\n",
        "            acc = binary_accuracy(predictions, batch.tag)\n",
        "            loss = criterion(predictions, batch.tag)\n",
        "            \n",
        "            rounded_preds = torch.round(torch.sigmoid(predictions))\n",
        "            logits = rounded_preds.detach().cpu().numpy()\n",
        "            label_ids = batch.tag.to('cpu').numpy()\n",
        "            \n",
        "            preds.append(logits)\n",
        "            labels.append(label_ids)\n",
        "\n",
        "            epoch_acc += acc.item()\n",
        "            epoch_loss+=loss.item()\n",
        "            bar.update()\n",
        "    if mode ==\"validation\":        \n",
        "      return epoch_acc / len(iterator),epoch_loss / len(iterator)\n",
        "    if mode ==\"testing\":\n",
        "      return epoch_acc / len(iterator),epoch_loss / len(iterator),preds,labels\n",
        "\n",
        "t = time.time()\n",
        "loss=[]\n",
        "acc=[]\n",
        "val_acc=[]\n",
        "val_loss=[]\n",
        "same_loss_count=0\n",
        "prev_loss = 0\n",
        "for epoch in range(num_epochs):\n",
        "    print(f'Epoch Number: {epoch}\\n')\n",
        "    train_loss, train_acc = train(model, train_iterator)\n",
        "    valid_acc,valid_loss = evaluate(model, valid_iterator,\"validation\")\n",
        "\n",
        "    print(f'\\tTrain Loss: {train_loss:.3f} | Train Acc: {train_acc*100:.2f}%')\n",
        "    print(f'\\tVal. Loss: {valid_loss:.3f} | Val. Acc: {valid_acc*100:.2f}%')\n",
        "    \n",
        "    #print(f'\\t Val. Acc: {valid_acc*100:.2f}%')\n",
        "    \n",
        "    loss.append(train_loss)\n",
        "    acc.append(train_acc)\n",
        "    val_acc.append(valid_acc)\n",
        "    val_loss.append(valid_loss)\n",
        "    \n",
        "    if np.abs(prev_loss-valid_loss)<0.001:\n",
        "      same_loss_count+=1\n",
        "\n",
        "    prev_loss=valid_loss\n",
        "    if same_loss_count == 3:\n",
        "      break\n",
        "      \n",
        "print(f'time:{time.time()-t:.3f}')\n",
        "\n"
      ],
      "execution_count": 88,
      "outputs": [
        {
          "output_type": "stream",
          "text": [
            "cuda:0\n",
            "Epoch Number: 0\n",
            "\n"
          ],
          "name": "stdout"
        },
        {
          "output_type": "stream",
          "text": [
            "/usr/local/lib/python3.7/dist-packages/torchtext/data/iterator.py:48: UserWarning: BucketIterator class will be retired in the 0.8.0 release and moved to torchtext.legacy. Please see 0.7.0 release notes for further information.\n",
            "  warnings.warn('{} class will be retired in the 0.8.0 release and moved to torchtext.legacy. Please see 0.7.0 release notes for further information.'.format(self.__class__.__name__), UserWarning)\n",
            "/usr/local/lib/python3.7/dist-packages/torch/nn/modules/rnn.py:60: UserWarning: dropout option adds dropout after all but last recurrent layer, so non-zero dropout expects num_layers greater than 1, but got dropout=0.1 and num_layers=1\n",
            "  \"num_layers={}\".format(dropout, num_layers))\n",
            "/usr/local/lib/python3.7/dist-packages/torchtext/data/batch.py:23: UserWarning: Batch class will be retired in the 0.8.0 release and moved to torchtext.legacy. Please see 0.7.0 release notes for further information.\n",
            "  warnings.warn('{} class will be retired in the 0.8.0 release and moved to torchtext.legacy. Please see 0.7.0 release notes for further information.'.format(self.__class__.__name__), UserWarning)\n",
            "0% [██████████████████████████████] 100% | ETA: 00:00:00\n",
            "Total time elapsed: 00:00:35\n",
            "0% [██████████████████████████████] 100% | ETA: 00:00:00"
          ],
          "name": "stderr"
        },
        {
          "output_type": "stream",
          "text": [
            "\tTrain Loss: 0.627 | Train Acc: 63.74%\n",
            "\tVal. Loss: 0.576 | Val. Acc: 70.70%\n",
            "Epoch Number: 1\n",
            "\n"
          ],
          "name": "stdout"
        },
        {
          "output_type": "stream",
          "text": [
            "\n",
            "Total time elapsed: 00:00:00\n",
            "0% [██████████████████████████████] 100% | ETA: 00:00:00\n",
            "Total time elapsed: 00:00:34\n",
            "0% [██████████████████████████████] 100% | ETA: 00:00:00"
          ],
          "name": "stderr"
        },
        {
          "output_type": "stream",
          "text": [
            "\tTrain Loss: 0.491 | Train Acc: 74.87%\n",
            "\tVal. Loss: 0.534 | Val. Acc: 72.16%\n",
            "Epoch Number: 2\n",
            "\n"
          ],
          "name": "stdout"
        },
        {
          "output_type": "stream",
          "text": [
            "\n",
            "Total time elapsed: 00:00:00\n",
            "0% [██████████████████████████████] 100% | ETA: 00:00:00\n",
            "Total time elapsed: 00:00:34\n",
            "0% [██████████████████████████████] 100% | ETA: 00:00:00"
          ],
          "name": "stderr"
        },
        {
          "output_type": "stream",
          "text": [
            "\tTrain Loss: 0.386 | Train Acc: 80.66%\n",
            "\tVal. Loss: 0.569 | Val. Acc: 72.50%\n",
            "Epoch Number: 3\n",
            "\n"
          ],
          "name": "stdout"
        },
        {
          "output_type": "stream",
          "text": [
            "\n",
            "Total time elapsed: 00:00:00\n",
            "0% [██████████████████████████████] 100% | ETA: 00:00:00\n",
            "Total time elapsed: 00:00:34\n",
            "0% [██████████████████████████████] 100% | ETA: 00:00:00"
          ],
          "name": "stderr"
        },
        {
          "output_type": "stream",
          "text": [
            "\tTrain Loss: 0.305 | Train Acc: 84.59%\n",
            "\tVal. Loss: 0.619 | Val. Acc: 71.68%\n",
            "Epoch Number: 4\n",
            "\n"
          ],
          "name": "stdout"
        },
        {
          "output_type": "stream",
          "text": [
            "\n",
            "Total time elapsed: 00:00:00\n",
            "0% [██████████████████████████████] 100% | ETA: 00:00:00\n",
            "Total time elapsed: 00:00:34\n",
            "0% [██████████████████████████████] 100% | ETA: 00:00:00"
          ],
          "name": "stderr"
        },
        {
          "output_type": "stream",
          "text": [
            "\tTrain Loss: 0.238 | Train Acc: 87.85%\n",
            "\tVal. Loss: 0.854 | Val. Acc: 71.64%\n",
            "Epoch Number: 5\n",
            "\n"
          ],
          "name": "stdout"
        },
        {
          "output_type": "stream",
          "text": [
            "\n",
            "Total time elapsed: 00:00:00\n",
            "0% [██████████████████████████████] 100% | ETA: 00:00:00\n",
            "Total time elapsed: 00:00:34\n",
            "0% [██████████████████████████████] 100% | ETA: 00:00:00"
          ],
          "name": "stderr"
        },
        {
          "output_type": "stream",
          "text": [
            "\tTrain Loss: 0.185 | Train Acc: 90.29%\n",
            "\tVal. Loss: 1.052 | Val. Acc: 70.63%\n",
            "time:213.973\n"
          ],
          "name": "stdout"
        },
        {
          "output_type": "stream",
          "text": [
            "\n",
            "Total time elapsed: 00:00:00\n"
          ],
          "name": "stderr"
        }
      ]
    },
    {
      "cell_type": "code",
      "metadata": {
        "colab": {
          "base_uri": "https://localhost:8080/",
          "height": 424
        },
        "id": "0XNc0MZqU-PM",
        "outputId": "bd5b8f6f-8014-44aa-c30e-fd70a1e632c3"
      },
      "source": [
        "plt.xlabel(\"runs\")\n",
        "plt.ylabel(\"normalised measure of loss/accuracy\")\n",
        "x_len=list(range(len(val_loss)))\n",
        "plt.axis([0, max(x_len), 0, 1])\n",
        "plt.title('result of LSTM')\n",
        "loss=np.asarray(loss)/max(loss)\n",
        "plt.plot(x_len, loss, 'r+',label=\"loss\")\n",
        "plt.plot(x_len, acc, 'b.', label=\"accuracy\")\n",
        "plt.plot(x_len, val_acc, 'g.', label=\"val_accuracy\")\n",
        "plt.plot(x_len, val_loss, 'g+', label=\"val_loss\")\n",
        "\n",
        "plt.legend(bbox_to_anchor=(1.05, 1), loc=2, borderaxespad=0.2)\n",
        "plt.show\n",
        "\n",
        "\n",
        "test_acc,test_loss,preds,labels = evaluate(model, test_iterator,\"testing\")\n",
        "\n",
        "print(f'\\tTest Loss: {test_loss:.3f} | Test Acc: {test_acc*100:.2f}%')\n",
        "preds = np.concatenate(preds)\n",
        "labels = np.concatenate(labels)\n",
        "\n",
        "prc,rec,fs = precision_score(labels,preds),recall_score(labels,preds),f1_score(labels,preds)\n",
        "print(f'\\tTest Loss: {test_loss:.3f} | Test Acc: {test_acc*100:.2f}% | Precision: {prc*100:.2f}% | Recall: {rec*100:.2f}% | F1-Score: {fs*100:.2f}%')"
      ],
      "execution_count": 89,
      "outputs": [
        {
          "output_type": "stream",
          "text": [
            "/usr/local/lib/python3.7/dist-packages/torchtext/data/batch.py:23: UserWarning: Batch class will be retired in the 0.8.0 release and moved to torchtext.legacy. Please see 0.7.0 release notes for further information.\n",
            "  warnings.warn('{} class will be retired in the 0.8.0 release and moved to torchtext.legacy. Please see 0.7.0 release notes for further information.'.format(self.__class__.__name__), UserWarning)\n",
            "0% [██████████████████████████████] 100% | ETA: 00:00:00\n",
            "Total time elapsed: 00:00:00\n"
          ],
          "name": "stderr"
        },
        {
          "output_type": "stream",
          "text": [
            "\tTest Loss: 1.124 | Test Acc: 69.78%\n",
            "\tTest Loss: 1.124 | Test Acc: 69.78% | Precision: 68.29% | Recall: 72.45% | F1-Score: 70.31%\n"
          ],
          "name": "stdout"
        },
        {
          "output_type": "display_data",
          "data": {
            "image/png": "[encoded data removed]",
            "text/plain": [
              "<Figure size 432x288 with 1 Axes>"
            ]
          },
          "metadata": {
            "tags": [],
            "needs_background": "light"
          }
        }
      ]
    },
    {
      "cell_type": "markdown",
      "metadata": {
        "id": "olStzvvHneiQ"
      },
      "source": [
        "# For Setting5: \n",
        "**Hyperparameters:**\n",
        "*   Epoch number=3\n",
        "*   Learning rate=0.0005\n",
        "*   batch size= 16\n",
        "*   Number of nodes in hidden layer = 500"
      ]
    },
    {
      "cell_type": "code",
      "metadata": {
        "colab": {
          "base_uri": "https://localhost:8080/"
        },
        "id": "sqwrqlUknmjL",
        "outputId": "67934027-f7b9-412f-bc10-b90ac743e70b"
      },
      "source": [
        "# Hyperparameters\n",
        "num_epochs = 3\n",
        "learning_rate = 0.0005\n",
        "\n",
        "INPUT_DIM = len(TEXT.vocab)\n",
        "EMBEDDING_DIM = 300\n",
        "HIDDEN_DIM = 500\n",
        "OUTPUT_DIM = 1\n",
        "#N_LAYERS = 2\n",
        "BIDIRECTIONAL = True\n",
        "DROPOUT = 0.1\n",
        "PAD_IDX = TEXT.vocab.stoi[TEXT.pad_token] # padding\n",
        "BATCH_SIZE = 16\n",
        "\n",
        "device = torch.device('cuda:0' if torch.cuda.is_available() else 'cpu')\n",
        "print(device)\n",
        "# keep in mind the sort_key option \n",
        "train_iterator, valid_iterator, test_iterator = data.BucketIterator.splits(\n",
        "    (train_data, valid_data, test_data), sort_key=lambda x: len(x.text),sort_within_batch = True,\n",
        "    batch_size=BATCH_SIZE,\n",
        "    device=device)\n",
        "\n",
        "class LSTM_net(nn.Module):\n",
        "    def __init__(self, vocab_size, embedding_dim, hidden_dim, output_dim,\n",
        "                 bidirectional, dropout, pad_idx):\n",
        "        \n",
        "        super().__init__()\n",
        "        \n",
        "        self.embedding = nn.Embedding(vocab_size, embedding_dim, padding_idx = pad_idx)\n",
        "        \n",
        "        self.rnn = nn.LSTM(embedding_dim, \n",
        "                           hidden_dim, \n",
        "                           bidirectional=bidirectional, \n",
        "                           dropout=dropout)\n",
        "        \n",
        "        self.fc1 = nn.Linear(hidden_dim * 2, hidden_dim)\n",
        "        \n",
        "        self.fc2 = nn.Linear(hidden_dim, 1)\n",
        "        \n",
        "        self.dropout = nn.Dropout(dropout)\n",
        "        \n",
        "    def forward(self, text, text_lengths):\n",
        "        \n",
        "        # text = [sent len, batch size]\n",
        "        \n",
        "        embedded = self.embedding(text)\n",
        "        \n",
        "        # embedded = [sent len, batch size, emb dim]\n",
        "        \n",
        "        #pack sequence\n",
        "        packed_embedded = nn.utils.rnn.pack_padded_sequence(embedded, text_lengths)\n",
        "        \n",
        "        packed_output, (hidden, cell) = self.rnn(packed_embedded)\n",
        "        \n",
        "        #unpack sequence\n",
        "        # output, output_lengths = nn.utils.rnn.pad_packed_sequence(packed_output)\n",
        "\n",
        "        # output = [sent len, batch size, hid dim * num directions]\n",
        "        # output over padding tokens are zero tensors\n",
        "        \n",
        "        # hidden = [num layers * num directions, batch size, hid dim]\n",
        "        # cell = [num layers * num directions, batch size, hid dim]\n",
        "        \n",
        "        # concat the final forward (hidden[-2,:,:]) and backward (hidden[-1,:,:]) hidden layers\n",
        "        # and apply dropout\n",
        "        \n",
        "        hidden = self.dropout(torch.cat((hidden[-2,:,:], hidden[-1,:,:]), dim = 1))\n",
        "        output = self.fc1(hidden)\n",
        "        output = self.dropout(self.fc2(output))\n",
        "                \n",
        "        #hidden = [batch size, hid dim * num directions]\n",
        "            \n",
        "        return output\n",
        "\n",
        "#creating instance of our LSTM_net class\n",
        "\n",
        "model = LSTM_net(INPUT_DIM, \n",
        "            EMBEDDING_DIM, \n",
        "            HIDDEN_DIM, \n",
        "            OUTPUT_DIM,  \n",
        "            BIDIRECTIONAL, \n",
        "            DROPOUT, \n",
        "            PAD_IDX)\n",
        "\n",
        "pretrained_embeddings = TEXT.vocab.vectors\n",
        "model.embedding.weight.data.copy_(pretrained_embeddings)\n",
        "\n",
        "#  to initiaise padded to zeros\n",
        "model.embedding.weight.data[PAD_IDX] = torch.zeros(EMBEDDING_DIM)\n",
        "\n",
        "\n",
        "model.to(device) #CNN to GPU\n",
        "# Loss and optimizer\n",
        "criterion = nn.BCEWithLogitsLoss()\n",
        "optimizer = torch.optim.AdamW(model.parameters(), lr=learning_rate)\n",
        "\n",
        "def binary_accuracy(preds, y):\n",
        "    \"\"\"\n",
        "    Returns accuracy per batch, i.e. if you get 8/10 right, this returns 0.8, NOT 8\n",
        "    \"\"\"\n",
        "\n",
        "    #round predictions to the closest integer\n",
        "    rounded_preds = torch.round(torch.sigmoid(preds))\n",
        "    correct = (rounded_preds == y).float() #convert into float for division \n",
        "    acc = correct.sum() / len(correct)\n",
        "    return acc\n",
        "\n",
        "# training function \n",
        "def train(model, iterator):\n",
        "    \n",
        "    epoch_loss = 0\n",
        "    epoch_acc = 0\n",
        "    \n",
        "    model.train()\n",
        "    bar = pyprind.ProgBar(len(iterator), bar_char='█')\n",
        "    for batch in iterator:\n",
        "        \n",
        "        text, text_lengths = batch.text\n",
        "        \n",
        "        optimizer.zero_grad()\n",
        "        predictions = model(text, text_lengths).squeeze(1)\n",
        "        loss = criterion(predictions, batch.tag)\n",
        "        acc = binary_accuracy(predictions, batch.tag)\n",
        "\n",
        "        loss.backward()\n",
        "        optimizer.step()\n",
        "        \n",
        "        epoch_loss += loss.item()\n",
        "        epoch_acc += acc.item()\n",
        "        \n",
        "        bar.update()\n",
        "    return epoch_loss / len(iterator), epoch_acc / len(iterator)\n",
        "\n",
        "def evaluate(model, iterator,mode):\n",
        "    \n",
        "    epoch_acc = 0\n",
        "    epoch_loss=0\n",
        "    preds,labels=[],[]\n",
        "    model.eval()\n",
        "    \n",
        "    with torch.no_grad():\n",
        "        bar = pyprind.ProgBar(len(iterator), bar_char='█')\n",
        "        for batch in iterator:\n",
        "            \n",
        "            text, text_lengths = batch.text\n",
        "            predictions = model(text, text_lengths).squeeze(1)\n",
        "            acc = binary_accuracy(predictions, batch.tag)\n",
        "            loss = criterion(predictions, batch.tag)\n",
        "            \n",
        "            rounded_preds = torch.round(torch.sigmoid(predictions))\n",
        "            logits = rounded_preds.detach().cpu().numpy()\n",
        "            label_ids = batch.tag.to('cpu').numpy()\n",
        "            \n",
        "            preds.append(logits)\n",
        "            labels.append(label_ids)\n",
        "\n",
        "            epoch_acc += acc.item()\n",
        "            epoch_loss+=loss.item()\n",
        "            bar.update()\n",
        "    if mode ==\"validation\":        \n",
        "      return epoch_acc / len(iterator),epoch_loss / len(iterator)\n",
        "    if mode ==\"testing\":\n",
        "      return epoch_acc / len(iterator),epoch_loss / len(iterator),preds,labels\n",
        "\n",
        "t = time.time()\n",
        "loss=[]\n",
        "acc=[]\n",
        "val_acc=[]\n",
        "val_loss=[]\n",
        "same_loss_count=0\n",
        "prev_loss = 0\n",
        "for epoch in range(num_epochs):\n",
        "    print(f'Epoch Number: {epoch}\\n')\n",
        "    train_loss, train_acc = train(model, train_iterator)\n",
        "    valid_acc,valid_loss = evaluate(model, valid_iterator,\"validation\")\n",
        "\n",
        "    print(f'\\tTrain Loss: {train_loss:.3f} | Train Acc: {train_acc*100:.2f}%')\n",
        "    print(f'\\tVal. Loss: {valid_loss:.3f} | Val. Acc: {valid_acc*100:.2f}%')\n",
        "    \n",
        "    #print(f'\\t Val. Acc: {valid_acc*100:.2f}%')\n",
        "    \n",
        "    loss.append(train_loss)\n",
        "    acc.append(train_acc)\n",
        "    val_acc.append(valid_acc)\n",
        "    val_loss.append(valid_loss)\n",
        "    \n",
        "    if np.abs(prev_loss-valid_loss)<0.001:\n",
        "      same_loss_count+=1\n",
        "\n",
        "    prev_loss=valid_loss\n",
        "    if same_loss_count == 3:\n",
        "      break\n",
        "      \n",
        "print(f'time:{time.time()-t:.3f}')\n",
        "\n"
      ],
      "execution_count": 90,
      "outputs": [
        {
          "output_type": "stream",
          "text": [
            "cuda:0\n",
            "Epoch Number: 0\n",
            "\n"
          ],
          "name": "stdout"
        },
        {
          "output_type": "stream",
          "text": [
            "/usr/local/lib/python3.7/dist-packages/torchtext/data/iterator.py:48: UserWarning: BucketIterator class will be retired in the 0.8.0 release and moved to torchtext.legacy. Please see 0.7.0 release notes for further information.\n",
            "  warnings.warn('{} class will be retired in the 0.8.0 release and moved to torchtext.legacy. Please see 0.7.0 release notes for further information.'.format(self.__class__.__name__), UserWarning)\n",
            "/usr/local/lib/python3.7/dist-packages/torch/nn/modules/rnn.py:60: UserWarning: dropout option adds dropout after all but last recurrent layer, so non-zero dropout expects num_layers greater than 1, but got dropout=0.1 and num_layers=1\n",
            "  \"num_layers={}\".format(dropout, num_layers))\n",
            "/usr/local/lib/python3.7/dist-packages/torchtext/data/batch.py:23: UserWarning: Batch class will be retired in the 0.8.0 release and moved to torchtext.legacy. Please see 0.7.0 release notes for further information.\n",
            "  warnings.warn('{} class will be retired in the 0.8.0 release and moved to torchtext.legacy. Please see 0.7.0 release notes for further information.'.format(self.__class__.__name__), UserWarning)\n",
            "0% [██████████████████████████████] 100% | ETA: 00:00:00\n",
            "Total time elapsed: 00:00:42\n",
            "0% [██████████████████████████████] 100% | ETA: 00:00:00"
          ],
          "name": "stderr"
        },
        {
          "output_type": "stream",
          "text": [
            "\tTrain Loss: 0.626 | Train Acc: 63.91%\n",
            "\tVal. Loss: 0.560 | Val. Acc: 71.44%\n",
            "Epoch Number: 1\n",
            "\n"
          ],
          "name": "stdout"
        },
        {
          "output_type": "stream",
          "text": [
            "\n",
            "Total time elapsed: 00:00:01\n",
            "0% [██████████████████████████████] 100% | ETA: 00:00:00\n",
            "Total time elapsed: 00:00:42\n",
            "0% [██████████████████████████████] 100% | ETA: 00:00:00"
          ],
          "name": "stderr"
        },
        {
          "output_type": "stream",
          "text": [
            "\tTrain Loss: 0.490 | Train Acc: 74.71%\n",
            "\tVal. Loss: 0.531 | Val. Acc: 72.98%\n",
            "Epoch Number: 2\n",
            "\n"
          ],
          "name": "stdout"
        },
        {
          "output_type": "stream",
          "text": [
            "\n",
            "Total time elapsed: 00:00:00\n",
            "0% [██████████████████████████████] 100% | ETA: 00:00:00\n",
            "Total time elapsed: 00:00:42\n",
            "0% [██████████████████████████████] 100% | ETA: 00:00:00"
          ],
          "name": "stderr"
        },
        {
          "output_type": "stream",
          "text": [
            "\tTrain Loss: 0.381 | Train Acc: 80.86%\n",
            "\tVal. Loss: 0.599 | Val. Acc: 72.07%\n",
            "time:130.587\n"
          ],
          "name": "stdout"
        },
        {
          "output_type": "stream",
          "text": [
            "\n",
            "Total time elapsed: 00:00:01\n"
          ],
          "name": "stderr"
        }
      ]
    },
    {
      "cell_type": "code",
      "metadata": {
        "colab": {
          "base_uri": "https://localhost:8080/",
          "height": 424
        },
        "id": "PKyUp_cxnmxj",
        "outputId": "26292e02-96c9-4817-9726-0a8ae46563c9"
      },
      "source": [
        "plt.xlabel(\"runs\")\n",
        "plt.ylabel(\"normalised measure of loss/accuracy\")\n",
        "x_len=list(range(len(val_loss)))\n",
        "plt.axis([0, max(x_len), 0, 1])\n",
        "plt.title('result of LSTM')\n",
        "loss=np.asarray(loss)/max(loss)\n",
        "plt.plot(x_len, loss, 'r+',label=\"loss\")\n",
        "plt.plot(x_len, acc, 'b.', label=\"accuracy\")\n",
        "plt.plot(x_len, val_acc, 'g.', label=\"val_accuracy\")\n",
        "plt.plot(x_len, val_loss, 'g+', label=\"val_loss\")\n",
        "\n",
        "plt.legend(bbox_to_anchor=(1.05, 1), loc=2, borderaxespad=0.2)\n",
        "plt.show\n",
        "\n",
        "\n",
        "test_acc,test_loss,preds,labels = evaluate(model, test_iterator,\"testing\")\n",
        "\n",
        "print(f'\\tTest Loss: {test_loss:.3f} | Test Acc: {test_acc*100:.2f}%')\n",
        "preds = np.concatenate(preds)\n",
        "labels = np.concatenate(labels)\n",
        "\n",
        "prc,rec,fs = precision_score(labels,preds),recall_score(labels,preds),f1_score(labels,preds)\n",
        "print(f'\\tTest Loss: {test_loss:.3f} | Test Acc: {test_acc*100:.2f}% | Precision: {prc*100:.2f}% | Recall: {rec*100:.2f}% | F1-Score: {fs*100:.2f}%')"
      ],
      "execution_count": 91,
      "outputs": [
        {
          "output_type": "stream",
          "text": [
            "/usr/local/lib/python3.7/dist-packages/torchtext/data/batch.py:23: UserWarning: Batch class will be retired in the 0.8.0 release and moved to torchtext.legacy. Please see 0.7.0 release notes for further information.\n",
            "  warnings.warn('{} class will be retired in the 0.8.0 release and moved to torchtext.legacy. Please see 0.7.0 release notes for further information.'.format(self.__class__.__name__), UserWarning)\n",
            "0% [██████████████████████████████] 100% | ETA: 00:00:00\n",
            "Total time elapsed: 00:00:01\n"
          ],
          "name": "stderr"
        },
        {
          "output_type": "stream",
          "text": [
            "\tTest Loss: 0.618 | Test Acc: 71.64%\n",
            "\tTest Loss: 0.618 | Test Acc: 71.64% | Precision: 74.37% | Recall: 64.98% | F1-Score: 69.36%\n"
          ],
          "name": "stdout"
        },
        {
          "output_type": "display_data",
          "data": {
            "image/png": "[encoded data removed]",
            "text/plain": [
              "<Figure size 432x288 with 1 Axes>"
            ]
          },
          "metadata": {
            "tags": [],
            "needs_background": "light"
          }
        }
      ]
    }
  ]
}